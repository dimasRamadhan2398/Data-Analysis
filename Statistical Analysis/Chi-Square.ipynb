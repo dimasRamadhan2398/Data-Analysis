{
 "cells": [
  {
   "cell_type": "code",
   "execution_count": 1,
   "id": "c8561d86",
   "metadata": {},
   "outputs": [],
   "source": [
    "from scipy import stats"
   ]
  },
  {
   "cell_type": "code",
   "execution_count": 2,
   "id": "12c6acbc",
   "metadata": {},
   "outputs": [
    {
     "data": {
      "text/plain": [
       "500"
      ]
     },
     "execution_count": 2,
     "metadata": {},
     "output_type": "execute_result"
    }
   ],
   "source": [
    "observed = [8,32,48,59,67,84,76,57,34,28,7]\n",
    "roll_sum = sum(observed)\n",
    "roll_sum"
   ]
  },
  {
   "cell_type": "code",
   "execution_count": 3,
   "id": "8cf2e377",
   "metadata": {},
   "outputs": [
    {
     "data": {
      "text/plain": [
       "[0.027777777777777776,\n",
       " 0.05555555555555555,\n",
       " 0.08333333333333333,\n",
       " 0.1111111111111111,\n",
       " 0.1388888888888889,\n",
       " 0.16666666666666666,\n",
       " 0.1388888888888889,\n",
       " 0.1111111111111111,\n",
       " 0.08333333333333333,\n",
       " 0.05555555555555555,\n",
       " 0.027777777777777776]"
      ]
     },
     "execution_count": 3,
     "metadata": {},
     "output_type": "execute_result"
    }
   ],
   "source": [
    "freq = [1,2,3,4,5,6,5,4,3,2,1]\n",
    "possible_rolls = 1/36\n",
    "freq = [possible_rolls * dice for dice in freq]\n",
    "freq"
   ]
  },
  {
   "cell_type": "code",
   "execution_count": 4,
   "id": "c449d459",
   "metadata": {},
   "outputs": [
    {
     "data": {
      "text/plain": [
       "[13.888888888888888,\n",
       " 27.777777777777775,\n",
       " 41.666666666666664,\n",
       " 55.55555555555555,\n",
       " 69.44444444444444,\n",
       " 83.33333333333333,\n",
       " 69.44444444444444,\n",
       " 55.55555555555555,\n",
       " 41.666666666666664,\n",
       " 27.777777777777775,\n",
       " 13.888888888888888]"
      ]
     },
     "execution_count": 4,
     "metadata": {},
     "output_type": "execute_result"
    }
   ],
   "source": [
    "expected = [roll_sum * f for f in freq]\n",
    "expected"
   ]
  },
  {
   "cell_type": "code",
   "execution_count": 5,
   "id": "f6328bee",
   "metadata": {},
   "outputs": [
    {
     "name": "stdout",
     "output_type": "stream",
     "text": [
      "The chi-squared test statistic is 9.89\n",
      "The p-value for the test is 0.45\n"
     ]
    }
   ],
   "source": [
    "chisq,p = stats.chisquare(observed,expected)\n",
    "print('The chi-squared test statistic is %.2f' %chisq)\n",
    "print('The p-value for the test is %.2f' %p)"
   ]
  },
  {
   "cell_type": "code",
   "execution_count": null,
   "id": "b0ad6b63",
   "metadata": {},
   "outputs": [],
   "source": []
  }
 ],
 "metadata": {
  "kernelspec": {
   "display_name": "Python 3 (ipykernel)",
   "language": "python",
   "name": "python3"
  },
  "language_info": {
   "codemirror_mode": {
    "name": "ipython",
    "version": 3
   },
   "file_extension": ".py",
   "mimetype": "text/x-python",
   "name": "python",
   "nbconvert_exporter": "python",
   "pygments_lexer": "ipython3",
   "version": "3.10.9"
  }
 },
 "nbformat": 4,
 "nbformat_minor": 5
}

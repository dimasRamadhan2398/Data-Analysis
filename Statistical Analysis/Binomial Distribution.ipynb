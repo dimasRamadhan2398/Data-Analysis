{
 "cells": [
  {
   "cell_type": "code",
   "execution_count": 1,
   "id": "4b0072d5",
   "metadata": {},
   "outputs": [],
   "source": [
    "import numpy as np\n",
    "import matplotlib.pyplot as plt\n",
    "import scipy.special as sc\n",
    "from scipy.stats import binom\n",
    "%matplotlib inline"
   ]
  },
  {
   "cell_type": "code",
   "execution_count": 2,
   "id": "1ef36ffa",
   "metadata": {},
   "outputs": [
    {
     "name": "stdout",
     "output_type": "stream",
     "text": [
      " The probability of player A making 6 shots in an average game is 11.1% \n",
      "\n",
      "\n",
      " The probability of player B making 6 shots in an average game is 17.0% \n"
     ]
    }
   ],
   "source": [
    "p_A = .72\n",
    "n_A = 11\n",
    "k = 6\n",
    "comb_A = sc.comb(n_A,k)\n",
    "answer_A = comb_A * (p_A)**k * ((1-p_A)**(n_A-k))\n",
    "answer_A = 100 * answer_A\n",
    "\n",
    "p_B = .48\n",
    "n_B = 15\n",
    "comb_B = sc.comb(n_B,k)\n",
    "answer_B = comb_B * (p_B)**k * ((1-p_B)**(n_B-k))\n",
    "answer_B = 100 * answer_B\n",
    "\n",
    "print(' The probability of player A making 6 shots in an average game is %1.1f%% ' %answer_A)\n",
    "print('\\n')\n",
    "print(' The probability of player B making 6 shots in an average game is %1.1f%% ' %answer_B)"
   ]
  },
  {
   "cell_type": "code",
   "execution_count": 3,
   "id": "0aa04ed1",
   "metadata": {},
   "outputs": [
    {
     "name": "stdout",
     "output_type": "stream",
     "text": [
      "\n",
      "\n",
      " The probability of player A making 9 shots in an average game is 22.4% \n",
      "\n",
      "\n",
      " The probability of player B making 9 shots in an average game is 13.4% \n",
      "\n",
      "\n"
     ]
    }
   ],
   "source": [
    "k = 9\n",
    "\n",
    "comb_A = sc.comb(n_A,k)\n",
    "comb_B = sc.comb(n_B,k)\n",
    "answer_A = 100 * comb_A * (p_A**k) * ((1-p_A)**(n_A-k))\n",
    "answer_B = 100 * comb_B * (p_B**k) * ((1-p_B)**(n_B-k))\n",
    "\n",
    "print('\\n')\n",
    "print(' The probability of player A making 9 shots in an average game is %1.1f%% ' %answer_A)\n",
    "print('\\n')\n",
    "print(' The probability of player B making 9 shots in an average game is %1.1f%% ' %answer_B)\n",
    "print('\\n')"
   ]
  },
  {
   "cell_type": "code",
   "execution_count": 4,
   "id": "ad57543d",
   "metadata": {},
   "outputs": [
    {
     "name": "stdout",
     "output_type": "stream",
     "text": [
      "\n",
      "\n",
      "Player A will make an average of 8 +/- 1 shots per game\n",
      "\n",
      "\n",
      "Player B will make an average of 7 +/- 2 shots per game\n",
      "\n",
      "\n",
      "NOTE: It's impossible to make a decimal of a shot so '%1.0f' was used to replace the float!\n"
     ]
    }
   ],
   "source": [
    "mu_A = n_A *p_A\n",
    "mu_B = n_B *p_B\n",
    "\n",
    "sigma_A = ( n_A * p_A * (1-p_A))**0.5\n",
    "sigma_B = ( n_B * p_B * (1-p_B))**0.5\n",
    "\n",
    "print ('\\n')\n",
    "print ('Player A will make an average of %1.0f +/- %1.0f shots per game' %(mu_A,sigma_A))\n",
    "print ('\\n')\n",
    "print ('Player B will make an average of %1.0f +/- %1.0f shots per game' %(mu_B,sigma_B))\n",
    "print ('\\n')\n",
    "print (\"NOTE: It's impossible to make a decimal of a shot so '%1.0f' was used to replace the float!\")"
   ]
  },
  {
   "cell_type": "code",
   "execution_count": 5,
   "id": "0ec89dc8",
   "metadata": {},
   "outputs": [
    {
     "name": "stdout",
     "output_type": "stream",
     "text": [
      "7.92\n",
      "1.4891608375189027\n"
     ]
    }
   ],
   "source": [
    "mean,var = binom.stats(n_A,p_A)\n",
    "print(mean)\n",
    "print(var**0.5)"
   ]
  },
  {
   "cell_type": "code",
   "execution_count": 57,
   "id": "c6110f94",
   "metadata": {
    "scrolled": true
   },
   "outputs": [
    {
     "data": {
      "text/plain": [
       "array([0.00024414, 0.00292969, 0.01611328, 0.05371094, 0.12084961,\n",
       "       0.19335938, 0.22558594, 0.19335938, 0.12084961, 0.05371094,\n",
       "       0.01611328, 0.00292969, 0.00024414])"
      ]
     },
     "execution_count": 57,
     "metadata": {},
     "output_type": "execute_result"
    }
   ],
   "source": [
    "n = 12\n",
    "p = 0.5\n",
    "x = range(n+1)\n",
    "Y = binom.pmf(x,n,p)\n",
    "Y"
   ]
  },
  {
   "cell_type": "code",
   "execution_count": 58,
   "id": "d6fa3ab5",
   "metadata": {},
   "outputs": [
    {
     "data": {
      "text/plain": [
       "Text(0, 0.5, 'Probability')"
      ]
     },
     "execution_count": 58,
     "metadata": {},
     "output_type": "execute_result"
    },
    {
     "data": {
      "image/png": "[encoded data removed]",
      "text/plain": [
       "<Figure size 640x480 with 1 Axes>"
      ]
     },
     "metadata": {},
     "output_type": "display_data"
    }
   ],
   "source": [
    "plt.plot(x,Y,'o')\n",
    "plt.title('Binomial Distribution PMF: 12 coin Flips, Odds of Success for Heads is p=0.5', y=1.08)\n",
    "plt.xlabel('Number of Heads')\n",
    "plt.ylabel('Probability')"
   ]
  },
  {
   "cell_type": "code",
   "execution_count": null,
   "id": "0515c0e2",
   "metadata": {},
   "outputs": [],
   "source": []
  }
 ],
 "metadata": {
  "kernelspec": {
   "display_name": "Python 3 (ipykernel)",
   "language": "python",
   "name": "python3"
  },
  "language_info": {
   "codemirror_mode": {
    "name": "ipython",
    "version": 3
   },
   "file_extension": ".py",
   "mimetype": "text/x-python",
   "name": "python",
   "nbconvert_exporter": "python",
   "pygments_lexer": "ipython3",
   "version": "3.10.9"
  }
 },
 "nbformat": 4,
 "nbformat_minor": 5
}

{
 "cells": [
  {
   "cell_type": "code",
   "execution_count": 1,
   "id": "d326646f",
   "metadata": {},
   "outputs": [],
   "source": [
    "from kafka import KafkaConsumer"
   ]
  },
  {
   "cell_type": "code",
   "execution_count": null,
   "id": "fa7aa8b4",
   "metadata": {},
   "outputs": [
    {
     "name": "stdout",
     "output_type": "stream",
     "text": [
      "Topic Name : test, Message = b'pesan pertama'\n",
      "Topic Name : test, Message = b'pesan kedua'\n",
      "Topic Name : test, Message = b'hallo dim'\n"
     ]
    }
   ],
   "source": [
    "bootstrap_server = ['localhost:29092']\n",
    "topicName = 'test'\n",
    "consumer = KafkaConsumer(topicName, auto_offset_reset='earliest', bootstrap_servers = bootstrap_server)\n",
    "for msg in consumer:\n",
    "    print(\"Topic Name : %s, Message = %s\" %(msg.topic,msg.value))"
   ]
  },
  {
   "cell_type": "code",
   "execution_count": null,
   "id": "a7d9c292",
   "metadata": {},
   "outputs": [],
   "source": []
  }
 ],
 "metadata": {
  "kernelspec": {
   "display_name": "Python 3 (ipykernel)",
   "language": "python",
   "name": "python3"
  },
  "language_info": {
   "codemirror_mode": {
    "name": "ipython",
    "version": 3
   },
   "file_extension": ".py",
   "mimetype": "text/x-python",
   "name": "python",
   "nbconvert_exporter": "python",
   "pygments_lexer": "ipython3",
   "version": "3.10.9"
  }
 },
 "nbformat": 4,
 "nbformat_minor": 5
}

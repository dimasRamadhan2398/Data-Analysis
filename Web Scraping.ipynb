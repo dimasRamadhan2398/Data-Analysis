{
 "cells": [
  {
   "cell_type": "code",
   "execution_count": 1,
   "id": "1e44260a",
   "metadata": {},
   "outputs": [],
   "source": [
    "import pandas as pd\n",
    "import requests\n",
    "from pandas import Series, DataFrame\n",
    "from bs4 import BeautifulSoup"
   ]
  },
  {
   "cell_type": "code",
   "execution_count": 2,
   "id": "4440407c",
   "metadata": {},
   "outputs": [],
   "source": [
    "url = 'https://www.w3schools.com/html/html_tables.asp'\n",
    "result = requests.get(url)\n",
    "c = result.content\n",
    "soup = BeautifulSoup(c)"
   ]
  },
  {
   "cell_type": "code",
   "execution_count": 3,
   "id": "ea10eb7a",
   "metadata": {},
   "outputs": [
    {
     "name": "stdout",
     "output_type": "stream",
     "text": [
      "Alfreds Futterkiste None\n",
      "Maria Anders None\n",
      "Germany None\n",
      "Centro comercial Moctezuma None\n",
      "Francisco Chang None\n",
      "Mexico None\n",
      "Ernst Handel None\n",
      "Roland Mendel None\n",
      "Austria None\n",
      "Island Trading None\n",
      "Helen Bennett None\n",
      "UK None\n",
      "Laughing Bacchus Winecellars None\n",
      "Yoshi Tannamuri None\n",
      "Canada None\n",
      "Magazzini Alimentari Riuniti None\n",
      "Giovanni Rovelli None\n",
      "Italy None\n"
     ]
    }
   ],
   "source": [
    "summary = soup.find(\"div\",{'class':'w3-white w3-padding notranslate w3-padding-16'})\n",
    "tables = summary.find_all('table')\n",
    "data = []\n",
    "rows = tables[0].findAll('tr')\n",
    "\n",
    "for tr in rows:\n",
    "    cols = tr.findAll('td')\n",
    "    for td in cols:\n",
    "        text = td.find(string=True)\n",
    "        print(text,\n",
    "             data.append(text))"
   ]
  },
  {
   "cell_type": "code",
   "execution_count": 4,
   "id": "1fbc8580",
   "metadata": {},
   "outputs": [
    {
     "data": {
      "text/plain": [
       "['Alfreds Futterkiste',\n",
       " 'Maria Anders',\n",
       " 'Germany',\n",
       " 'Centro comercial Moctezuma',\n",
       " 'Francisco Chang',\n",
       " 'Mexico',\n",
       " 'Ernst Handel',\n",
       " 'Roland Mendel',\n",
       " 'Austria',\n",
       " 'Island Trading',\n",
       " 'Helen Bennett',\n",
       " 'UK',\n",
       " 'Laughing Bacchus Winecellars',\n",
       " 'Yoshi Tannamuri',\n",
       " 'Canada',\n",
       " 'Magazzini Alimentari Riuniti',\n",
       " 'Giovanni Rovelli',\n",
       " 'Italy']"
      ]
     },
     "execution_count": 4,
     "metadata": {},
     "output_type": "execute_result"
    }
   ],
   "source": [
    "data"
   ]
  },
  {
   "cell_type": "code",
   "execution_count": null,
   "id": "e66c1f3a",
   "metadata": {},
   "outputs": [],
   "source": []
  }
 ],
 "metadata": {
  "kernelspec": {
   "display_name": "Python 3 (ipykernel)",
   "language": "python",
   "name": "python3"
  },
  "language_info": {
   "codemirror_mode": {
    "name": "ipython",
    "version": 3
   },
   "file_extension": ".py",
   "mimetype": "text/x-python",
   "name": "python",
   "nbconvert_exporter": "python",
   "pygments_lexer": "ipython3",
   "version": "3.10.9"
  }
 },
 "nbformat": 4,
 "nbformat_minor": 5
}

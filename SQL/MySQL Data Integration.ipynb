{
 "cells": [
  {
   "cell_type": "code",
   "execution_count": 1,
   "id": "59c9818f",
   "metadata": {},
   "outputs": [],
   "source": [
    "import pandas as pd\n",
    "import mysql.connector as connection"
   ]
  },
  {
   "cell_type": "code",
   "execution_count": 2,
   "id": "034b8ac9",
   "metadata": {},
   "outputs": [],
   "source": [
    "sql = \"SELECT * FROM classicmodels.orders;\""
   ]
  },
  {
   "cell_type": "code",
   "execution_count": 3,
   "id": "fe911bfb",
   "metadata": {},
   "outputs": [],
   "source": [
    "db = connection.connect(host='localhost', database='classicmodels', user='root', passwd='demopass01', use_pure=True)"
   ]
  },
  {
   "cell_type": "code",
   "execution_count": 4,
   "id": "c32451b8",
   "metadata": {},
   "outputs": [
    {
     "name": "stderr",
     "output_type": "stream",
     "text": [
      "C:\\Users\\asus\\AppData\\Local\\Temp\\ipykernel_12380\\3349604202.py:1: UserWarning: pandas only supports SQLAlchemy connectable (engine/connection) or database string URI or sqlite3 DBAPI2 connection. Other DBAPI2 objects are not tested. Please consider using SQLAlchemy.\n",
      "  df = pd.read_sql(sql, db)\n"
     ]
    }
   ],
   "source": [
    "df = pd.read_sql(sql, db)"
   ]
  },
  {
   "cell_type": "code",
   "execution_count": 5,
   "id": "ee56d48e",
   "metadata": {},
   "outputs": [
    {
     "data": {
      "text/html": [
       "<div>\n",
       "<style scoped>\n",
       "    .dataframe tbody tr th:only-of-type {\n",
       "        vertical-align: middle;\n",
       "    }\n",
       "\n",
       "    .dataframe tbody tr th {\n",
       "        vertical-align: top;\n",
       "    }\n",
       "\n",
       "    .dataframe thead th {\n",
       "        text-align: right;\n",
       "    }\n",
       "</style>\n",
       "<table border=\"1\" class=\"dataframe\">\n",
       "  <thead>\n",
       "    <tr style=\"text-align: right;\">\n",
       "      <th></th>\n",
       "      <th>orderNumber</th>\n",
       "      <th>orderDate</th>\n",
       "      <th>requiredDate</th>\n",
       "      <th>shippedDate</th>\n",
       "      <th>status</th>\n",
       "      <th>comments</th>\n",
       "      <th>customerNumber</th>\n",
       "    </tr>\n",
       "  </thead>\n",
       "  <tbody>\n",
       "    <tr>\n",
       "      <th>0</th>\n",
       "      <td>10100</td>\n",
       "      <td>2003-01-06</td>\n",
       "      <td>2003-01-13</td>\n",
       "      <td>2003-01-10</td>\n",
       "      <td>Shipped</td>\n",
       "      <td>None</td>\n",
       "      <td>363</td>\n",
       "    </tr>\n",
       "    <tr>\n",
       "      <th>1</th>\n",
       "      <td>10101</td>\n",
       "      <td>2003-01-09</td>\n",
       "      <td>2003-01-18</td>\n",
       "      <td>2003-01-11</td>\n",
       "      <td>Shipped</td>\n",
       "      <td>Check on availability.</td>\n",
       "      <td>128</td>\n",
       "    </tr>\n",
       "    <tr>\n",
       "      <th>2</th>\n",
       "      <td>10102</td>\n",
       "      <td>2003-01-10</td>\n",
       "      <td>2003-01-18</td>\n",
       "      <td>2003-01-14</td>\n",
       "      <td>Shipped</td>\n",
       "      <td>None</td>\n",
       "      <td>181</td>\n",
       "    </tr>\n",
       "    <tr>\n",
       "      <th>3</th>\n",
       "      <td>10103</td>\n",
       "      <td>2003-01-29</td>\n",
       "      <td>2003-02-07</td>\n",
       "      <td>2003-02-02</td>\n",
       "      <td>Shipped</td>\n",
       "      <td>None</td>\n",
       "      <td>121</td>\n",
       "    </tr>\n",
       "    <tr>\n",
       "      <th>4</th>\n",
       "      <td>10104</td>\n",
       "      <td>2003-01-31</td>\n",
       "      <td>2003-02-09</td>\n",
       "      <td>2003-02-01</td>\n",
       "      <td>Shipped</td>\n",
       "      <td>None</td>\n",
       "      <td>141</td>\n",
       "    </tr>\n",
       "  </tbody>\n",
       "</table>\n",
       "</div>"
      ],
      "text/plain": [
       "   orderNumber   orderDate requiredDate shippedDate   status   \n",
       "0        10100  2003-01-06   2003-01-13  2003-01-10  Shipped  \\\n",
       "1        10101  2003-01-09   2003-01-18  2003-01-11  Shipped   \n",
       "2        10102  2003-01-10   2003-01-18  2003-01-14  Shipped   \n",
       "3        10103  2003-01-29   2003-02-07  2003-02-02  Shipped   \n",
       "4        10104  2003-01-31   2003-02-09  2003-02-01  Shipped   \n",
       "\n",
       "                 comments  customerNumber  \n",
       "0                    None             363  \n",
       "1  Check on availability.             128  \n",
       "2                    None             181  \n",
       "3                    None             121  \n",
       "4                    None             141  "
      ]
     },
     "execution_count": 5,
     "metadata": {},
     "output_type": "execute_result"
    }
   ],
   "source": [
    "df.head()"
   ]
  },
  {
   "cell_type": "code",
   "execution_count": 6,
   "id": "97aa216d",
   "metadata": {},
   "outputs": [],
   "source": [
    "df.to_excel(\"mysql_date.xlsx\", index=False)"
   ]
  },
  {
   "cell_type": "code",
   "execution_count": 10,
   "id": "4ed7ca09",
   "metadata": {},
   "outputs": [],
   "source": [
    "sql_customer = \"SELECT * FROM classicmodels.customers WHERE country = 'France';\""
   ]
  },
  {
   "cell_type": "code",
   "execution_count": 11,
   "id": "6843656c",
   "metadata": {},
   "outputs": [
    {
     "name": "stderr",
     "output_type": "stream",
     "text": [
      "C:\\Users\\asus\\AppData\\Local\\Temp\\ipykernel_12380\\1622091835.py:1: UserWarning: pandas only supports SQLAlchemy connectable (engine/connection) or database string URI or sqlite3 DBAPI2 connection. Other DBAPI2 objects are not tested. Please consider using SQLAlchemy.\n",
      "  df_customer = pd.read_sql(sql_customer, db)\n"
     ]
    }
   ],
   "source": [
    "df_customer = pd.read_sql(sql_customer, db)"
   ]
  },
  {
   "cell_type": "code",
   "execution_count": 12,
   "id": "f9501251",
   "metadata": {},
   "outputs": [
    {
     "data": {
      "text/html": [
       "<div>\n",
       "<style scoped>\n",
       "    .dataframe tbody tr th:only-of-type {\n",
       "        vertical-align: middle;\n",
       "    }\n",
       "\n",
       "    .dataframe tbody tr th {\n",
       "        vertical-align: top;\n",
       "    }\n",
       "\n",
       "    .dataframe thead th {\n",
       "        text-align: right;\n",
       "    }\n",
       "</style>\n",
       "<table border=\"1\" class=\"dataframe\">\n",
       "  <thead>\n",
       "    <tr style=\"text-align: right;\">\n",
       "      <th></th>\n",
       "      <th>customerNumber</th>\n",
       "      <th>customerName</th>\n",
       "      <th>contactLastName</th>\n",
       "      <th>contactFirstName</th>\n",
       "      <th>phone</th>\n",
       "      <th>addressLine1</th>\n",
       "      <th>addressLine2</th>\n",
       "      <th>city</th>\n",
       "      <th>state</th>\n",
       "      <th>postalCode</th>\n",
       "      <th>country</th>\n",
       "      <th>salesRepEmployeeNumber</th>\n",
       "      <th>creditLimit</th>\n",
       "    </tr>\n",
       "  </thead>\n",
       "  <tbody>\n",
       "    <tr>\n",
       "      <th>0</th>\n",
       "      <td>103</td>\n",
       "      <td>Atelier graphique</td>\n",
       "      <td>Schmitt</td>\n",
       "      <td>Carine</td>\n",
       "      <td>40.32.2555</td>\n",
       "      <td>54, rue Royale</td>\n",
       "      <td>None</td>\n",
       "      <td>Nantes</td>\n",
       "      <td>None</td>\n",
       "      <td>44000</td>\n",
       "      <td>France</td>\n",
       "      <td>1370</td>\n",
       "      <td>21000.0</td>\n",
       "    </tr>\n",
       "    <tr>\n",
       "      <th>1</th>\n",
       "      <td>119</td>\n",
       "      <td>La Rochelle Gifts</td>\n",
       "      <td>Labrune</td>\n",
       "      <td>Janine</td>\n",
       "      <td>40.67.8555</td>\n",
       "      <td>67, rue des Cinquante Otages</td>\n",
       "      <td>None</td>\n",
       "      <td>Nantes</td>\n",
       "      <td>None</td>\n",
       "      <td>44000</td>\n",
       "      <td>France</td>\n",
       "      <td>1370</td>\n",
       "      <td>118200.0</td>\n",
       "    </tr>\n",
       "    <tr>\n",
       "      <th>2</th>\n",
       "      <td>146</td>\n",
       "      <td>Saveley &amp; Henriot, Co.</td>\n",
       "      <td>Saveley</td>\n",
       "      <td>Mary</td>\n",
       "      <td>78.32.5555</td>\n",
       "      <td>2, rue du Commerce</td>\n",
       "      <td>None</td>\n",
       "      <td>Lyon</td>\n",
       "      <td>None</td>\n",
       "      <td>69004</td>\n",
       "      <td>France</td>\n",
       "      <td>1337</td>\n",
       "      <td>123900.0</td>\n",
       "    </tr>\n",
       "    <tr>\n",
       "      <th>3</th>\n",
       "      <td>171</td>\n",
       "      <td>Daedalus Designs Imports</td>\n",
       "      <td>Rancé</td>\n",
       "      <td>Martine</td>\n",
       "      <td>20.16.1555</td>\n",
       "      <td>184, chaussée de Tournai</td>\n",
       "      <td>None</td>\n",
       "      <td>Lille</td>\n",
       "      <td>None</td>\n",
       "      <td>59000</td>\n",
       "      <td>France</td>\n",
       "      <td>1370</td>\n",
       "      <td>82900.0</td>\n",
       "    </tr>\n",
       "    <tr>\n",
       "      <th>4</th>\n",
       "      <td>172</td>\n",
       "      <td>La Corne D'abondance, Co.</td>\n",
       "      <td>Bertrand</td>\n",
       "      <td>Marie</td>\n",
       "      <td>(1) 42.34.2555</td>\n",
       "      <td>265, boulevard Charonne</td>\n",
       "      <td>None</td>\n",
       "      <td>Paris</td>\n",
       "      <td>None</td>\n",
       "      <td>75012</td>\n",
       "      <td>France</td>\n",
       "      <td>1337</td>\n",
       "      <td>84300.0</td>\n",
       "    </tr>\n",
       "  </tbody>\n",
       "</table>\n",
       "</div>"
      ],
      "text/plain": [
       "   customerNumber               customerName contactLastName contactFirstName   \n",
       "0             103          Atelier graphique         Schmitt          Carine   \\\n",
       "1             119          La Rochelle Gifts         Labrune          Janine    \n",
       "2             146     Saveley & Henriot, Co.         Saveley            Mary    \n",
       "3             171   Daedalus Designs Imports           Rancé         Martine    \n",
       "4             172  La Corne D'abondance, Co.        Bertrand            Marie   \n",
       "\n",
       "            phone                  addressLine1 addressLine2    city state   \n",
       "0      40.32.2555                54, rue Royale         None  Nantes  None  \\\n",
       "1      40.67.8555  67, rue des Cinquante Otages         None  Nantes  None   \n",
       "2      78.32.5555            2, rue du Commerce         None    Lyon  None   \n",
       "3      20.16.1555      184, chaussée de Tournai         None   Lille  None   \n",
       "4  (1) 42.34.2555       265, boulevard Charonne         None   Paris  None   \n",
       "\n",
       "  postalCode country  salesRepEmployeeNumber  creditLimit  \n",
       "0      44000  France                    1370      21000.0  \n",
       "1      44000  France                    1370     118200.0  \n",
       "2      69004  France                    1337     123900.0  \n",
       "3      59000  France                    1370      82900.0  \n",
       "4      75012  France                    1337      84300.0  "
      ]
     },
     "execution_count": 12,
     "metadata": {},
     "output_type": "execute_result"
    }
   ],
   "source": [
    "df_customer.head()"
   ]
  },
  {
   "cell_type": "code",
   "execution_count": 13,
   "id": "4381f0a9",
   "metadata": {},
   "outputs": [
    {
     "name": "stdout",
     "output_type": "stream",
     "text": [
      "<class 'pandas.core.frame.DataFrame'>\n",
      "RangeIndex: 326 entries, 0 to 325\n",
      "Data columns (total 7 columns):\n",
      " #   Column          Non-Null Count  Dtype \n",
      "---  ------          --------------  ----- \n",
      " 0   orderNumber     326 non-null    int64 \n",
      " 1   orderDate       326 non-null    object\n",
      " 2   requiredDate    326 non-null    object\n",
      " 3   shippedDate     312 non-null    object\n",
      " 4   status          326 non-null    object\n",
      " 5   comments        80 non-null     object\n",
      " 6   customerNumber  326 non-null    int64 \n",
      "dtypes: int64(2), object(5)\n",
      "memory usage: 18.0+ KB\n"
     ]
    }
   ],
   "source": [
    "df.info()"
   ]
  },
  {
   "cell_type": "code",
   "execution_count": 14,
   "id": "40ea1ada",
   "metadata": {},
   "outputs": [
    {
     "data": {
      "text/html": [
       "<div>\n",
       "<style scoped>\n",
       "    .dataframe tbody tr th:only-of-type {\n",
       "        vertical-align: middle;\n",
       "    }\n",
       "\n",
       "    .dataframe tbody tr th {\n",
       "        vertical-align: top;\n",
       "    }\n",
       "\n",
       "    .dataframe thead th {\n",
       "        text-align: right;\n",
       "    }\n",
       "</style>\n",
       "<table border=\"1\" class=\"dataframe\">\n",
       "  <thead>\n",
       "    <tr style=\"text-align: right;\">\n",
       "      <th></th>\n",
       "      <th>orderNumber</th>\n",
       "      <th>customerNumber</th>\n",
       "    </tr>\n",
       "  </thead>\n",
       "  <tbody>\n",
       "    <tr>\n",
       "      <th>count</th>\n",
       "      <td>326.000000</td>\n",
       "      <td>326.000000</td>\n",
       "    </tr>\n",
       "    <tr>\n",
       "      <th>mean</th>\n",
       "      <td>10262.500000</td>\n",
       "      <td>263.834356</td>\n",
       "    </tr>\n",
       "    <tr>\n",
       "      <th>std</th>\n",
       "      <td>94.252321</td>\n",
       "      <td>121.325792</td>\n",
       "    </tr>\n",
       "    <tr>\n",
       "      <th>min</th>\n",
       "      <td>10100.000000</td>\n",
       "      <td>103.000000</td>\n",
       "    </tr>\n",
       "    <tr>\n",
       "      <th>25%</th>\n",
       "      <td>10181.250000</td>\n",
       "      <td>145.250000</td>\n",
       "    </tr>\n",
       "    <tr>\n",
       "      <th>50%</th>\n",
       "      <td>10262.500000</td>\n",
       "      <td>240.000000</td>\n",
       "    </tr>\n",
       "    <tr>\n",
       "      <th>75%</th>\n",
       "      <td>10343.750000</td>\n",
       "      <td>360.750000</td>\n",
       "    </tr>\n",
       "    <tr>\n",
       "      <th>max</th>\n",
       "      <td>10425.000000</td>\n",
       "      <td>496.000000</td>\n",
       "    </tr>\n",
       "  </tbody>\n",
       "</table>\n",
       "</div>"
      ],
      "text/plain": [
       "        orderNumber  customerNumber\n",
       "count    326.000000      326.000000\n",
       "mean   10262.500000      263.834356\n",
       "std       94.252321      121.325792\n",
       "min    10100.000000      103.000000\n",
       "25%    10181.250000      145.250000\n",
       "50%    10262.500000      240.000000\n",
       "75%    10343.750000      360.750000\n",
       "max    10425.000000      496.000000"
      ]
     },
     "execution_count": 14,
     "metadata": {},
     "output_type": "execute_result"
    }
   ],
   "source": [
    "df.describe()"
   ]
  },
  {
   "cell_type": "code",
   "execution_count": null,
   "id": "867bae4d",
   "metadata": {},
   "outputs": [],
   "source": []
  }
 ],
 "metadata": {
  "kernelspec": {
   "display_name": "Python 3 (ipykernel)",
   "language": "python",
   "name": "python3"
  },
  "language_info": {
   "codemirror_mode": {
    "name": "ipython",
    "version": 3
   },
   "file_extension": ".py",
   "mimetype": "text/x-python",
   "name": "python",
   "nbconvert_exporter": "python",
   "pygments_lexer": "ipython3",
   "version": "3.10.9"
  }
 },
 "nbformat": 4,
 "nbformat_minor": 5
}

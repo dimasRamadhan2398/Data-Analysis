{
 "cells": [
  {
   "cell_type": "code",
   "execution_count": 1,
   "id": "d8440ea9",
   "metadata": {},
   "outputs": [],
   "source": [
    "import pandas as pd\n",
    "import numpy as np\n",
    "import seaborn as sns\n",
    "import matplotlib.pyplot as plt\n",
    "import pandas_datareader as pdr\n",
    "import yfinance as yf\n",
    "import datetime as dt\n",
    "from pandas import Series, DataFrame\n",
    "%matplotlib inline"
   ]
  },
  {
   "cell_type": "code",
   "execution_count": 2,
   "id": "4aa2b8c3",
   "metadata": {},
   "outputs": [],
   "source": [
    "stock_symbols = [\"BBRI.JK\", \"EMTK.JK\", \"HRUM.JK\",\"ASSA.JK\"]\n",
    "end_date = dt.datetime.today()\n",
    "start_date = dt.datetime(end_date.year - 5, end_date.month, end_date.day)  "
   ]
  },
  {
   "cell_type": "code",
   "execution_count": 3,
   "id": "2c3719c1",
   "metadata": {},
   "outputs": [
    {
     "name": "stdout",
     "output_type": "stream",
     "text": [
      "[*********************100%***********************]  4 of 4 completed\n",
      "\n",
      "1 Failed download:\n",
      "- ASSA.JK: No data found for this date range, symbol may be delisted\n"
     ]
    }
   ],
   "source": [
    "df_stock = yf.download(stock_symbols, start=start_date, end=end_date)"
   ]
  },
  {
   "cell_type": "code",
   "execution_count": 4,
   "id": "85b6d6a4",
   "metadata": {},
   "outputs": [
    {
     "data": {
      "text/html": [
       "<div>\n",
       "<style scoped>\n",
       "    .dataframe tbody tr th:only-of-type {\n",
       "        vertical-align: middle;\n",
       "    }\n",
       "\n",
       "    .dataframe tbody tr th {\n",
       "        vertical-align: top;\n",
       "    }\n",
       "\n",
       "    .dataframe thead tr th {\n",
       "        text-align: left;\n",
       "    }\n",
       "\n",
       "    .dataframe thead tr:last-of-type th {\n",
       "        text-align: right;\n",
       "    }\n",
       "</style>\n",
       "<table border=\"1\" class=\"dataframe\">\n",
       "  <thead>\n",
       "    <tr>\n",
       "      <th></th>\n",
       "      <th colspan=\"4\" halign=\"left\">Adj Close</th>\n",
       "      <th colspan=\"4\" halign=\"left\">Close</th>\n",
       "      <th colspan=\"2\" halign=\"left\">High</th>\n",
       "      <th>...</th>\n",
       "      <th colspan=\"2\" halign=\"left\">Low</th>\n",
       "      <th colspan=\"4\" halign=\"left\">Open</th>\n",
       "      <th colspan=\"4\" halign=\"left\">Volume</th>\n",
       "    </tr>\n",
       "    <tr>\n",
       "      <th></th>\n",
       "      <th>ASSA.JK</th>\n",
       "      <th>BBRI.JK</th>\n",
       "      <th>EMTK.JK</th>\n",
       "      <th>HRUM.JK</th>\n",
       "      <th>ASSA.JK</th>\n",
       "      <th>BBRI.JK</th>\n",
       "      <th>EMTK.JK</th>\n",
       "      <th>HRUM.JK</th>\n",
       "      <th>ASSA.JK</th>\n",
       "      <th>BBRI.JK</th>\n",
       "      <th>...</th>\n",
       "      <th>EMTK.JK</th>\n",
       "      <th>HRUM.JK</th>\n",
       "      <th>ASSA.JK</th>\n",
       "      <th>BBRI.JK</th>\n",
       "      <th>EMTK.JK</th>\n",
       "      <th>HRUM.JK</th>\n",
       "      <th>ASSA.JK</th>\n",
       "      <th>BBRI.JK</th>\n",
       "      <th>EMTK.JK</th>\n",
       "      <th>HRUM.JK</th>\n",
       "    </tr>\n",
       "    <tr>\n",
       "      <th>Date</th>\n",
       "      <th></th>\n",
       "      <th></th>\n",
       "      <th></th>\n",
       "      <th></th>\n",
       "      <th></th>\n",
       "      <th></th>\n",
       "      <th></th>\n",
       "      <th></th>\n",
       "      <th></th>\n",
       "      <th></th>\n",
       "      <th></th>\n",
       "      <th></th>\n",
       "      <th></th>\n",
       "      <th></th>\n",
       "      <th></th>\n",
       "      <th></th>\n",
       "      <th></th>\n",
       "      <th></th>\n",
       "      <th></th>\n",
       "      <th></th>\n",
       "      <th></th>\n",
       "    </tr>\n",
       "  </thead>\n",
       "  <tbody>\n",
       "    <tr>\n",
       "      <th>2018-06-05 00:00:00</th>\n",
       "      <td>NaN</td>\n",
       "      <td>2577.549072</td>\n",
       "      <td>890.47406</td>\n",
       "      <td>554.092163</td>\n",
       "      <td>NaN</td>\n",
       "      <td>3110.0</td>\n",
       "      <td>895.0</td>\n",
       "      <td>604.0</td>\n",
       "      <td>NaN</td>\n",
       "      <td>3160.0</td>\n",
       "      <td>...</td>\n",
       "      <td>895.0</td>\n",
       "      <td>604.0</td>\n",
       "      <td>NaN</td>\n",
       "      <td>3150.0</td>\n",
       "      <td>895.0</td>\n",
       "      <td>606.0</td>\n",
       "      <td>NaN</td>\n",
       "      <td>135979600.0</td>\n",
       "      <td>2000</td>\n",
       "      <td>32423000</td>\n",
       "    </tr>\n",
       "    <tr>\n",
       "      <th>2018-06-06 00:00:00</th>\n",
       "      <td>NaN</td>\n",
       "      <td>2610.700928</td>\n",
       "      <td>890.47406</td>\n",
       "      <td>541.248962</td>\n",
       "      <td>NaN</td>\n",
       "      <td>3150.0</td>\n",
       "      <td>895.0</td>\n",
       "      <td>590.0</td>\n",
       "      <td>NaN</td>\n",
       "      <td>3160.0</td>\n",
       "      <td>...</td>\n",
       "      <td>895.0</td>\n",
       "      <td>586.0</td>\n",
       "      <td>NaN</td>\n",
       "      <td>3120.0</td>\n",
       "      <td>895.0</td>\n",
       "      <td>606.0</td>\n",
       "      <td>NaN</td>\n",
       "      <td>99509500.0</td>\n",
       "      <td>2000</td>\n",
       "      <td>17350000</td>\n",
       "    </tr>\n",
       "    <tr>\n",
       "      <th>2018-06-07 00:00:00</th>\n",
       "      <td>NaN</td>\n",
       "      <td>2710.156494</td>\n",
       "      <td>890.47406</td>\n",
       "      <td>546.753174</td>\n",
       "      <td>NaN</td>\n",
       "      <td>3270.0</td>\n",
       "      <td>895.0</td>\n",
       "      <td>596.0</td>\n",
       "      <td>NaN</td>\n",
       "      <td>3270.0</td>\n",
       "      <td>...</td>\n",
       "      <td>895.0</td>\n",
       "      <td>590.0</td>\n",
       "      <td>NaN</td>\n",
       "      <td>3180.0</td>\n",
       "      <td>895.0</td>\n",
       "      <td>590.0</td>\n",
       "      <td>NaN</td>\n",
       "      <td>183746200.0</td>\n",
       "      <td>2000</td>\n",
       "      <td>12983000</td>\n",
       "    </tr>\n",
       "    <tr>\n",
       "      <th>2018-06-08 00:00:00</th>\n",
       "      <td>NaN</td>\n",
       "      <td>2602.412842</td>\n",
       "      <td>890.47406</td>\n",
       "      <td>546.753174</td>\n",
       "      <td>NaN</td>\n",
       "      <td>3140.0</td>\n",
       "      <td>895.0</td>\n",
       "      <td>596.0</td>\n",
       "      <td>NaN</td>\n",
       "      <td>3250.0</td>\n",
       "      <td>...</td>\n",
       "      <td>895.0</td>\n",
       "      <td>594.0</td>\n",
       "      <td>NaN</td>\n",
       "      <td>3210.0</td>\n",
       "      <td>895.0</td>\n",
       "      <td>602.0</td>\n",
       "      <td>NaN</td>\n",
       "      <td>262972300.0</td>\n",
       "      <td>2000</td>\n",
       "      <td>15341000</td>\n",
       "    </tr>\n",
       "    <tr>\n",
       "      <th>2018-06-11 00:00:00</th>\n",
       "      <td>NaN</td>\n",
       "      <td>2602.412842</td>\n",
       "      <td>890.47406</td>\n",
       "      <td>546.753174</td>\n",
       "      <td>NaN</td>\n",
       "      <td>3140.0</td>\n",
       "      <td>895.0</td>\n",
       "      <td>596.0</td>\n",
       "      <td>NaN</td>\n",
       "      <td>3140.0</td>\n",
       "      <td>...</td>\n",
       "      <td>895.0</td>\n",
       "      <td>596.0</td>\n",
       "      <td>NaN</td>\n",
       "      <td>3140.0</td>\n",
       "      <td>895.0</td>\n",
       "      <td>596.0</td>\n",
       "      <td>NaN</td>\n",
       "      <td>0.0</td>\n",
       "      <td>0</td>\n",
       "      <td>0</td>\n",
       "    </tr>\n",
       "  </tbody>\n",
       "</table>\n",
       "<p>5 rows × 24 columns</p>\n",
       "</div>"
      ],
      "text/plain": [
       "                    Adj Close                                       Close   \n",
       "                      ASSA.JK      BBRI.JK    EMTK.JK     HRUM.JK ASSA.JK   \n",
       "Date                                                                        \n",
       "2018-06-05 00:00:00       NaN  2577.549072  890.47406  554.092163     NaN  \\\n",
       "2018-06-06 00:00:00       NaN  2610.700928  890.47406  541.248962     NaN   \n",
       "2018-06-07 00:00:00       NaN  2710.156494  890.47406  546.753174     NaN   \n",
       "2018-06-08 00:00:00       NaN  2602.412842  890.47406  546.753174     NaN   \n",
       "2018-06-11 00:00:00       NaN  2602.412842  890.47406  546.753174     NaN   \n",
       "\n",
       "                                               High          ...     Low   \n",
       "                    BBRI.JK EMTK.JK HRUM.JK ASSA.JK BBRI.JK  ... EMTK.JK   \n",
       "Date                                                         ...           \n",
       "2018-06-05 00:00:00  3110.0   895.0   604.0     NaN  3160.0  ...   895.0  \\\n",
       "2018-06-06 00:00:00  3150.0   895.0   590.0     NaN  3160.0  ...   895.0   \n",
       "2018-06-07 00:00:00  3270.0   895.0   596.0     NaN  3270.0  ...   895.0   \n",
       "2018-06-08 00:00:00  3140.0   895.0   596.0     NaN  3250.0  ...   895.0   \n",
       "2018-06-11 00:00:00  3140.0   895.0   596.0     NaN  3140.0  ...   895.0   \n",
       "\n",
       "                               Open                          Volume   \n",
       "                    HRUM.JK ASSA.JK BBRI.JK EMTK.JK HRUM.JK ASSA.JK   \n",
       "Date                                                                  \n",
       "2018-06-05 00:00:00   604.0     NaN  3150.0   895.0   606.0     NaN  \\\n",
       "2018-06-06 00:00:00   586.0     NaN  3120.0   895.0   606.0     NaN   \n",
       "2018-06-07 00:00:00   590.0     NaN  3180.0   895.0   590.0     NaN   \n",
       "2018-06-08 00:00:00   594.0     NaN  3210.0   895.0   602.0     NaN   \n",
       "2018-06-11 00:00:00   596.0     NaN  3140.0   895.0   596.0     NaN   \n",
       "\n",
       "                                                    \n",
       "                         BBRI.JK EMTK.JK   HRUM.JK  \n",
       "Date                                                \n",
       "2018-06-05 00:00:00  135979600.0    2000  32423000  \n",
       "2018-06-06 00:00:00   99509500.0    2000  17350000  \n",
       "2018-06-07 00:00:00  183746200.0    2000  12983000  \n",
       "2018-06-08 00:00:00  262972300.0    2000  15341000  \n",
       "2018-06-11 00:00:00          0.0       0         0  \n",
       "\n",
       "[5 rows x 24 columns]"
      ]
     },
     "execution_count": 4,
     "metadata": {},
     "output_type": "execute_result"
    }
   ],
   "source": [
    "df_stock.head()"
   ]
  },
  {
   "cell_type": "code",
   "execution_count": 5,
   "id": "d06d30fa",
   "metadata": {},
   "outputs": [
    {
     "data": {
      "text/html": [
       "<div>\n",
       "<style scoped>\n",
       "    .dataframe tbody tr th:only-of-type {\n",
       "        vertical-align: middle;\n",
       "    }\n",
       "\n",
       "    .dataframe tbody tr th {\n",
       "        vertical-align: top;\n",
       "    }\n",
       "\n",
       "    .dataframe thead tr th {\n",
       "        text-align: left;\n",
       "    }\n",
       "\n",
       "    .dataframe thead tr:last-of-type th {\n",
       "        text-align: right;\n",
       "    }\n",
       "</style>\n",
       "<table border=\"1\" class=\"dataframe\">\n",
       "  <thead>\n",
       "    <tr>\n",
       "      <th></th>\n",
       "      <th colspan=\"4\" halign=\"left\">Adj Close</th>\n",
       "      <th colspan=\"4\" halign=\"left\">Close</th>\n",
       "      <th colspan=\"2\" halign=\"left\">High</th>\n",
       "      <th>...</th>\n",
       "      <th colspan=\"2\" halign=\"left\">Low</th>\n",
       "      <th colspan=\"4\" halign=\"left\">Open</th>\n",
       "      <th colspan=\"4\" halign=\"left\">Volume</th>\n",
       "    </tr>\n",
       "    <tr>\n",
       "      <th></th>\n",
       "      <th>ASSA.JK</th>\n",
       "      <th>BBRI.JK</th>\n",
       "      <th>EMTK.JK</th>\n",
       "      <th>HRUM.JK</th>\n",
       "      <th>ASSA.JK</th>\n",
       "      <th>BBRI.JK</th>\n",
       "      <th>EMTK.JK</th>\n",
       "      <th>HRUM.JK</th>\n",
       "      <th>ASSA.JK</th>\n",
       "      <th>BBRI.JK</th>\n",
       "      <th>...</th>\n",
       "      <th>EMTK.JK</th>\n",
       "      <th>HRUM.JK</th>\n",
       "      <th>ASSA.JK</th>\n",
       "      <th>BBRI.JK</th>\n",
       "      <th>EMTK.JK</th>\n",
       "      <th>HRUM.JK</th>\n",
       "      <th>ASSA.JK</th>\n",
       "      <th>BBRI.JK</th>\n",
       "      <th>EMTK.JK</th>\n",
       "      <th>HRUM.JK</th>\n",
       "    </tr>\n",
       "    <tr>\n",
       "      <th>Date</th>\n",
       "      <th></th>\n",
       "      <th></th>\n",
       "      <th></th>\n",
       "      <th></th>\n",
       "      <th></th>\n",
       "      <th></th>\n",
       "      <th></th>\n",
       "      <th></th>\n",
       "      <th></th>\n",
       "      <th></th>\n",
       "      <th></th>\n",
       "      <th></th>\n",
       "      <th></th>\n",
       "      <th></th>\n",
       "      <th></th>\n",
       "      <th></th>\n",
       "      <th></th>\n",
       "      <th></th>\n",
       "      <th></th>\n",
       "      <th></th>\n",
       "      <th></th>\n",
       "    </tr>\n",
       "  </thead>\n",
       "  <tbody>\n",
       "    <tr>\n",
       "      <th>2023-05-26 00:00:00</th>\n",
       "      <td>NaN</td>\n",
       "      <td>5600.0</td>\n",
       "      <td>595.0</td>\n",
       "      <td>1260.0</td>\n",
       "      <td>NaN</td>\n",
       "      <td>5600.0</td>\n",
       "      <td>595.0</td>\n",
       "      <td>1260.0</td>\n",
       "      <td>NaN</td>\n",
       "      <td>5600.0</td>\n",
       "      <td>...</td>\n",
       "      <td>590.0</td>\n",
       "      <td>1260.0</td>\n",
       "      <td>NaN</td>\n",
       "      <td>5425.0</td>\n",
       "      <td>625.0</td>\n",
       "      <td>1280.0</td>\n",
       "      <td>NaN</td>\n",
       "      <td>154003100.0</td>\n",
       "      <td>25569700</td>\n",
       "      <td>4867400</td>\n",
       "    </tr>\n",
       "    <tr>\n",
       "      <th>2023-05-29 00:00:00</th>\n",
       "      <td>NaN</td>\n",
       "      <td>5550.0</td>\n",
       "      <td>585.0</td>\n",
       "      <td>1305.0</td>\n",
       "      <td>NaN</td>\n",
       "      <td>5550.0</td>\n",
       "      <td>585.0</td>\n",
       "      <td>1305.0</td>\n",
       "      <td>NaN</td>\n",
       "      <td>5625.0</td>\n",
       "      <td>...</td>\n",
       "      <td>565.0</td>\n",
       "      <td>1205.0</td>\n",
       "      <td>NaN</td>\n",
       "      <td>5600.0</td>\n",
       "      <td>595.0</td>\n",
       "      <td>1265.0</td>\n",
       "      <td>NaN</td>\n",
       "      <td>125049100.0</td>\n",
       "      <td>36776300</td>\n",
       "      <td>25541700</td>\n",
       "    </tr>\n",
       "    <tr>\n",
       "      <th>2023-05-30 00:00:00</th>\n",
       "      <td>NaN</td>\n",
       "      <td>5500.0</td>\n",
       "      <td>610.0</td>\n",
       "      <td>1360.0</td>\n",
       "      <td>NaN</td>\n",
       "      <td>5500.0</td>\n",
       "      <td>610.0</td>\n",
       "      <td>1360.0</td>\n",
       "      <td>NaN</td>\n",
       "      <td>5600.0</td>\n",
       "      <td>...</td>\n",
       "      <td>585.0</td>\n",
       "      <td>1315.0</td>\n",
       "      <td>NaN</td>\n",
       "      <td>5500.0</td>\n",
       "      <td>585.0</td>\n",
       "      <td>1315.0</td>\n",
       "      <td>NaN</td>\n",
       "      <td>67363200.0</td>\n",
       "      <td>30926100</td>\n",
       "      <td>24725100</td>\n",
       "    </tr>\n",
       "    <tr>\n",
       "      <th>2023-05-31 00:00:00</th>\n",
       "      <td>NaN</td>\n",
       "      <td>5575.0</td>\n",
       "      <td>595.0</td>\n",
       "      <td>1410.0</td>\n",
       "      <td>NaN</td>\n",
       "      <td>5575.0</td>\n",
       "      <td>595.0</td>\n",
       "      <td>1410.0</td>\n",
       "      <td>NaN</td>\n",
       "      <td>5575.0</td>\n",
       "      <td>...</td>\n",
       "      <td>590.0</td>\n",
       "      <td>1340.0</td>\n",
       "      <td>NaN</td>\n",
       "      <td>5575.0</td>\n",
       "      <td>615.0</td>\n",
       "      <td>1365.0</td>\n",
       "      <td>NaN</td>\n",
       "      <td>898453700.0</td>\n",
       "      <td>16569300</td>\n",
       "      <td>23820600</td>\n",
       "    </tr>\n",
       "    <tr>\n",
       "      <th>2023-06-05 00:00:00</th>\n",
       "      <td>NaN</td>\n",
       "      <td>5450.0</td>\n",
       "      <td>605.0</td>\n",
       "      <td>1415.0</td>\n",
       "      <td>NaN</td>\n",
       "      <td>5450.0</td>\n",
       "      <td>605.0</td>\n",
       "      <td>1415.0</td>\n",
       "      <td>NaN</td>\n",
       "      <td>5600.0</td>\n",
       "      <td>...</td>\n",
       "      <td>590.0</td>\n",
       "      <td>1375.0</td>\n",
       "      <td>NaN</td>\n",
       "      <td>5600.0</td>\n",
       "      <td>605.0</td>\n",
       "      <td>1420.0</td>\n",
       "      <td>NaN</td>\n",
       "      <td>172733300.0</td>\n",
       "      <td>9474900</td>\n",
       "      <td>12056900</td>\n",
       "    </tr>\n",
       "  </tbody>\n",
       "</table>\n",
       "<p>5 rows × 24 columns</p>\n",
       "</div>"
      ],
      "text/plain": [
       "                    Adj Close                           Close                   \n",
       "                      ASSA.JK BBRI.JK EMTK.JK HRUM.JK ASSA.JK BBRI.JK EMTK.JK   \n",
       "Date                                                                            \n",
       "2023-05-26 00:00:00       NaN  5600.0   595.0  1260.0     NaN  5600.0   595.0  \\\n",
       "2023-05-29 00:00:00       NaN  5550.0   585.0  1305.0     NaN  5550.0   585.0   \n",
       "2023-05-30 00:00:00       NaN  5500.0   610.0  1360.0     NaN  5500.0   610.0   \n",
       "2023-05-31 00:00:00       NaN  5575.0   595.0  1410.0     NaN  5575.0   595.0   \n",
       "2023-06-05 00:00:00       NaN  5450.0   605.0  1415.0     NaN  5450.0   605.0   \n",
       "\n",
       "                               High          ...     Low            Open   \n",
       "                    HRUM.JK ASSA.JK BBRI.JK  ... EMTK.JK HRUM.JK ASSA.JK   \n",
       "Date                                         ...                           \n",
       "2023-05-26 00:00:00  1260.0     NaN  5600.0  ...   590.0  1260.0     NaN  \\\n",
       "2023-05-29 00:00:00  1305.0     NaN  5625.0  ...   565.0  1205.0     NaN   \n",
       "2023-05-30 00:00:00  1360.0     NaN  5600.0  ...   585.0  1315.0     NaN   \n",
       "2023-05-31 00:00:00  1410.0     NaN  5575.0  ...   590.0  1340.0     NaN   \n",
       "2023-06-05 00:00:00  1415.0     NaN  5600.0  ...   590.0  1375.0     NaN   \n",
       "\n",
       "                                             Volume                          \n",
       "                    BBRI.JK EMTK.JK HRUM.JK ASSA.JK      BBRI.JK   EMTK.JK   \n",
       "Date                                                                         \n",
       "2023-05-26 00:00:00  5425.0   625.0  1280.0     NaN  154003100.0  25569700  \\\n",
       "2023-05-29 00:00:00  5600.0   595.0  1265.0     NaN  125049100.0  36776300   \n",
       "2023-05-30 00:00:00  5500.0   585.0  1315.0     NaN   67363200.0  30926100   \n",
       "2023-05-31 00:00:00  5575.0   615.0  1365.0     NaN  898453700.0  16569300   \n",
       "2023-06-05 00:00:00  5600.0   605.0  1420.0     NaN  172733300.0   9474900   \n",
       "\n",
       "                               \n",
       "                      HRUM.JK  \n",
       "Date                           \n",
       "2023-05-26 00:00:00   4867400  \n",
       "2023-05-29 00:00:00  25541700  \n",
       "2023-05-30 00:00:00  24725100  \n",
       "2023-05-31 00:00:00  23820600  \n",
       "2023-06-05 00:00:00  12056900  \n",
       "\n",
       "[5 rows x 24 columns]"
      ]
     },
     "execution_count": 5,
     "metadata": {},
     "output_type": "execute_result"
    }
   ],
   "source": [
    "df_stock.tail()"
   ]
  },
  {
   "cell_type": "code",
   "execution_count": 6,
   "id": "d93fd92c",
   "metadata": {},
   "outputs": [
    {
     "data": {
      "text/html": [
       "<div>\n",
       "<style scoped>\n",
       "    .dataframe tbody tr th:only-of-type {\n",
       "        vertical-align: middle;\n",
       "    }\n",
       "\n",
       "    .dataframe tbody tr th {\n",
       "        vertical-align: top;\n",
       "    }\n",
       "\n",
       "    .dataframe thead tr th {\n",
       "        text-align: left;\n",
       "    }\n",
       "</style>\n",
       "<table border=\"1\" class=\"dataframe\">\n",
       "  <thead>\n",
       "    <tr>\n",
       "      <th></th>\n",
       "      <th colspan=\"4\" halign=\"left\">Adj Close</th>\n",
       "      <th colspan=\"4\" halign=\"left\">Close</th>\n",
       "      <th colspan=\"2\" halign=\"left\">High</th>\n",
       "      <th>...</th>\n",
       "      <th colspan=\"2\" halign=\"left\">Low</th>\n",
       "      <th colspan=\"4\" halign=\"left\">Open</th>\n",
       "      <th colspan=\"4\" halign=\"left\">Volume</th>\n",
       "    </tr>\n",
       "    <tr>\n",
       "      <th></th>\n",
       "      <th>ASSA.JK</th>\n",
       "      <th>BBRI.JK</th>\n",
       "      <th>EMTK.JK</th>\n",
       "      <th>HRUM.JK</th>\n",
       "      <th>ASSA.JK</th>\n",
       "      <th>BBRI.JK</th>\n",
       "      <th>EMTK.JK</th>\n",
       "      <th>HRUM.JK</th>\n",
       "      <th>ASSA.JK</th>\n",
       "      <th>BBRI.JK</th>\n",
       "      <th>...</th>\n",
       "      <th>EMTK.JK</th>\n",
       "      <th>HRUM.JK</th>\n",
       "      <th>ASSA.JK</th>\n",
       "      <th>BBRI.JK</th>\n",
       "      <th>EMTK.JK</th>\n",
       "      <th>HRUM.JK</th>\n",
       "      <th>ASSA.JK</th>\n",
       "      <th>BBRI.JK</th>\n",
       "      <th>EMTK.JK</th>\n",
       "      <th>HRUM.JK</th>\n",
       "    </tr>\n",
       "  </thead>\n",
       "  <tbody>\n",
       "    <tr>\n",
       "      <th>count</th>\n",
       "      <td>0.0</td>\n",
       "      <td>1240.000000</td>\n",
       "      <td>1241.000000</td>\n",
       "      <td>1241.000000</td>\n",
       "      <td>0.0</td>\n",
       "      <td>1240.000000</td>\n",
       "      <td>1241.000000</td>\n",
       "      <td>1241.000000</td>\n",
       "      <td>0.0</td>\n",
       "      <td>1240.000000</td>\n",
       "      <td>...</td>\n",
       "      <td>1241.000000</td>\n",
       "      <td>1241.000000</td>\n",
       "      <td>0.0</td>\n",
       "      <td>1240.000000</td>\n",
       "      <td>1241.000000</td>\n",
       "      <td>1241.000000</td>\n",
       "      <td>0.0</td>\n",
       "      <td>1.240000e+03</td>\n",
       "      <td>1.241000e+03</td>\n",
       "      <td>1.241000e+03</td>\n",
       "    </tr>\n",
       "    <tr>\n",
       "      <th>mean</th>\n",
       "      <td>NaN</td>\n",
       "      <td>3601.271283</td>\n",
       "      <td>1244.785811</td>\n",
       "      <td>886.618724</td>\n",
       "      <td>NaN</td>\n",
       "      <td>4034.674361</td>\n",
       "      <td>1247.912571</td>\n",
       "      <td>928.437550</td>\n",
       "      <td>NaN</td>\n",
       "      <td>4082.518565</td>\n",
       "      <td>...</td>\n",
       "      <td>1224.935133</td>\n",
       "      <td>909.050766</td>\n",
       "      <td>NaN</td>\n",
       "      <td>4039.522601</td>\n",
       "      <td>1248.945608</td>\n",
       "      <td>930.891217</td>\n",
       "      <td>NaN</td>\n",
       "      <td>1.486041e+08</td>\n",
       "      <td>2.063079e+07</td>\n",
       "      <td>3.256729e+07</td>\n",
       "    </tr>\n",
       "    <tr>\n",
       "      <th>std</th>\n",
       "      <td>NaN</td>\n",
       "      <td>673.291035</td>\n",
       "      <td>677.720942</td>\n",
       "      <td>676.095638</td>\n",
       "      <td>NaN</td>\n",
       "      <td>617.808875</td>\n",
       "      <td>679.636358</td>\n",
       "      <td>700.347936</td>\n",
       "      <td>NaN</td>\n",
       "      <td>613.781482</td>\n",
       "      <td>...</td>\n",
       "      <td>661.404767</td>\n",
       "      <td>683.861839</td>\n",
       "      <td>NaN</td>\n",
       "      <td>618.445438</td>\n",
       "      <td>683.041887</td>\n",
       "      <td>703.560816</td>\n",
       "      <td>NaN</td>\n",
       "      <td>9.569479e+07</td>\n",
       "      <td>4.050526e+07</td>\n",
       "      <td>3.956155e+07</td>\n",
       "    </tr>\n",
       "    <tr>\n",
       "      <th>min</th>\n",
       "      <td>NaN</td>\n",
       "      <td>1922.021973</td>\n",
       "      <td>405.843750</td>\n",
       "      <td>203.742157</td>\n",
       "      <td>NaN</td>\n",
       "      <td>2170.000000</td>\n",
       "      <td>407.000000</td>\n",
       "      <td>216.000000</td>\n",
       "      <td>NaN</td>\n",
       "      <td>2270.000000</td>\n",
       "      <td>...</td>\n",
       "      <td>397.000000</td>\n",
       "      <td>213.000000</td>\n",
       "      <td>NaN</td>\n",
       "      <td>2250.000000</td>\n",
       "      <td>397.000000</td>\n",
       "      <td>216.000000</td>\n",
       "      <td>NaN</td>\n",
       "      <td>0.000000e+00</td>\n",
       "      <td>0.000000e+00</td>\n",
       "      <td>0.000000e+00</td>\n",
       "    </tr>\n",
       "    <tr>\n",
       "      <th>25%</th>\n",
       "      <td>NaN</td>\n",
       "      <td>3124.553467</td>\n",
       "      <td>727.926086</td>\n",
       "      <td>262.223694</td>\n",
       "      <td>NaN</td>\n",
       "      <td>3660.000000</td>\n",
       "      <td>730.000000</td>\n",
       "      <td>281.000000</td>\n",
       "      <td>NaN</td>\n",
       "      <td>3680.000000</td>\n",
       "      <td>...</td>\n",
       "      <td>725.000000</td>\n",
       "      <td>278.000000</td>\n",
       "      <td>NaN</td>\n",
       "      <td>3657.500000</td>\n",
       "      <td>727.500000</td>\n",
       "      <td>282.000000</td>\n",
       "      <td>NaN</td>\n",
       "      <td>8.998202e+07</td>\n",
       "      <td>1.000000e+04</td>\n",
       "      <td>6.693000e+06</td>\n",
       "    </tr>\n",
       "    <tr>\n",
       "      <th>50%</th>\n",
       "      <td>NaN</td>\n",
       "      <td>3665.657471</td>\n",
       "      <td>887.471558</td>\n",
       "      <td>541.248962</td>\n",
       "      <td>NaN</td>\n",
       "      <td>4180.000000</td>\n",
       "      <td>890.000000</td>\n",
       "      <td>580.000000</td>\n",
       "      <td>NaN</td>\n",
       "      <td>4215.000000</td>\n",
       "      <td>...</td>\n",
       "      <td>885.000000</td>\n",
       "      <td>570.000000</td>\n",
       "      <td>NaN</td>\n",
       "      <td>4180.000000</td>\n",
       "      <td>890.000000</td>\n",
       "      <td>586.000000</td>\n",
       "      <td>NaN</td>\n",
       "      <td>1.262206e+08</td>\n",
       "      <td>2.235000e+06</td>\n",
       "      <td>1.592950e+07</td>\n",
       "    </tr>\n",
       "    <tr>\n",
       "      <th>75%</th>\n",
       "      <td>NaN</td>\n",
       "      <td>4058.438660</td>\n",
       "      <td>1869.673218</td>\n",
       "      <td>1541.688721</td>\n",
       "      <td>NaN</td>\n",
       "      <td>4470.000000</td>\n",
       "      <td>1875.000000</td>\n",
       "      <td>1600.000000</td>\n",
       "      <td>NaN</td>\n",
       "      <td>4520.000000</td>\n",
       "      <td>...</td>\n",
       "      <td>1840.000000</td>\n",
       "      <td>1575.000000</td>\n",
       "      <td>NaN</td>\n",
       "      <td>4480.000000</td>\n",
       "      <td>1885.000000</td>\n",
       "      <td>1605.000000</td>\n",
       "      <td>NaN</td>\n",
       "      <td>1.782866e+08</td>\n",
       "      <td>2.799680e+07</td>\n",
       "      <td>4.452300e+07</td>\n",
       "    </tr>\n",
       "    <tr>\n",
       "      <th>max</th>\n",
       "      <td>NaN</td>\n",
       "      <td>5600.000000</td>\n",
       "      <td>2991.477295</td>\n",
       "      <td>2675.518311</td>\n",
       "      <td>NaN</td>\n",
       "      <td>5600.000000</td>\n",
       "      <td>3000.000000</td>\n",
       "      <td>2815.000000</td>\n",
       "      <td>NaN</td>\n",
       "      <td>5625.000000</td>\n",
       "      <td>...</td>\n",
       "      <td>2960.000000</td>\n",
       "      <td>2735.000000</td>\n",
       "      <td>NaN</td>\n",
       "      <td>5600.000000</td>\n",
       "      <td>3040.000000</td>\n",
       "      <td>2860.000000</td>\n",
       "      <td>NaN</td>\n",
       "      <td>8.984537e+08</td>\n",
       "      <td>9.250834e+08</td>\n",
       "      <td>3.190125e+08</td>\n",
       "    </tr>\n",
       "  </tbody>\n",
       "</table>\n",
       "<p>8 rows × 24 columns</p>\n",
       "</div>"
      ],
      "text/plain": [
       "      Adj Close                                          Close                \n",
       "        ASSA.JK      BBRI.JK      EMTK.JK      HRUM.JK ASSA.JK      BBRI.JK   \n",
       "count       0.0  1240.000000  1241.000000  1241.000000     0.0  1240.000000  \\\n",
       "mean        NaN  3601.271283  1244.785811   886.618724     NaN  4034.674361   \n",
       "std         NaN   673.291035   677.720942   676.095638     NaN   617.808875   \n",
       "min         NaN  1922.021973   405.843750   203.742157     NaN  2170.000000   \n",
       "25%         NaN  3124.553467   727.926086   262.223694     NaN  3660.000000   \n",
       "50%         NaN  3665.657471   887.471558   541.248962     NaN  4180.000000   \n",
       "75%         NaN  4058.438660  1869.673218  1541.688721     NaN  4470.000000   \n",
       "max         NaN  5600.000000  2991.477295  2675.518311     NaN  5600.000000   \n",
       "\n",
       "                                   High               ...          Low   \n",
       "           EMTK.JK      HRUM.JK ASSA.JK      BBRI.JK  ...      EMTK.JK   \n",
       "count  1241.000000  1241.000000     0.0  1240.000000  ...  1241.000000  \\\n",
       "mean   1247.912571   928.437550     NaN  4082.518565  ...  1224.935133   \n",
       "std     679.636358   700.347936     NaN   613.781482  ...   661.404767   \n",
       "min     407.000000   216.000000     NaN  2270.000000  ...   397.000000   \n",
       "25%     730.000000   281.000000     NaN  3680.000000  ...   725.000000   \n",
       "50%     890.000000   580.000000     NaN  4215.000000  ...   885.000000   \n",
       "75%    1875.000000  1600.000000     NaN  4520.000000  ...  1840.000000   \n",
       "max    3000.000000  2815.000000     NaN  5625.000000  ...  2960.000000   \n",
       "\n",
       "                      Open                                         Volume   \n",
       "           HRUM.JK ASSA.JK      BBRI.JK      EMTK.JK      HRUM.JK ASSA.JK   \n",
       "count  1241.000000     0.0  1240.000000  1241.000000  1241.000000     0.0  \\\n",
       "mean    909.050766     NaN  4039.522601  1248.945608   930.891217     NaN   \n",
       "std     683.861839     NaN   618.445438   683.041887   703.560816     NaN   \n",
       "min     213.000000     NaN  2250.000000   397.000000   216.000000     NaN   \n",
       "25%     278.000000     NaN  3657.500000   727.500000   282.000000     NaN   \n",
       "50%     570.000000     NaN  4180.000000   890.000000   586.000000     NaN   \n",
       "75%    1575.000000     NaN  4480.000000  1885.000000  1605.000000     NaN   \n",
       "max    2735.000000     NaN  5600.000000  3040.000000  2860.000000     NaN   \n",
       "\n",
       "                                                 \n",
       "            BBRI.JK       EMTK.JK       HRUM.JK  \n",
       "count  1.240000e+03  1.241000e+03  1.241000e+03  \n",
       "mean   1.486041e+08  2.063079e+07  3.256729e+07  \n",
       "std    9.569479e+07  4.050526e+07  3.956155e+07  \n",
       "min    0.000000e+00  0.000000e+00  0.000000e+00  \n",
       "25%    8.998202e+07  1.000000e+04  6.693000e+06  \n",
       "50%    1.262206e+08  2.235000e+06  1.592950e+07  \n",
       "75%    1.782866e+08  2.799680e+07  4.452300e+07  \n",
       "max    8.984537e+08  9.250834e+08  3.190125e+08  \n",
       "\n",
       "[8 rows x 24 columns]"
      ]
     },
     "execution_count": 6,
     "metadata": {},
     "output_type": "execute_result"
    }
   ],
   "source": [
    "df_stock.describe()"
   ]
  },
  {
   "cell_type": "code",
   "execution_count": 7,
   "id": "0c0faa98",
   "metadata": {},
   "outputs": [
    {
     "name": "stdout",
     "output_type": "stream",
     "text": [
      "<class 'pandas.core.frame.DataFrame'>\n",
      "Index: 1241 entries, 2018-06-05 00:00:00 to 2023-06-05 00:00:00\n",
      "Data columns (total 24 columns):\n",
      " #   Column                Non-Null Count  Dtype  \n",
      "---  ------                --------------  -----  \n",
      " 0   (Adj Close, ASSA.JK)  0 non-null      float64\n",
      " 1   (Adj Close, BBRI.JK)  1240 non-null   float64\n",
      " 2   (Adj Close, EMTK.JK)  1241 non-null   float64\n",
      " 3   (Adj Close, HRUM.JK)  1241 non-null   float64\n",
      " 4   (Close, ASSA.JK)      0 non-null      float64\n",
      " 5   (Close, BBRI.JK)      1240 non-null   float64\n",
      " 6   (Close, EMTK.JK)      1241 non-null   float64\n",
      " 7   (Close, HRUM.JK)      1241 non-null   float64\n",
      " 8   (High, ASSA.JK)       0 non-null      float64\n",
      " 9   (High, BBRI.JK)       1240 non-null   float64\n",
      " 10  (High, EMTK.JK)       1241 non-null   float64\n",
      " 11  (High, HRUM.JK)       1241 non-null   float64\n",
      " 12  (Low, ASSA.JK)        0 non-null      float64\n",
      " 13  (Low, BBRI.JK)        1240 non-null   float64\n",
      " 14  (Low, EMTK.JK)        1241 non-null   float64\n",
      " 15  (Low, HRUM.JK)        1241 non-null   float64\n",
      " 16  (Open, ASSA.JK)       0 non-null      float64\n",
      " 17  (Open, BBRI.JK)       1240 non-null   float64\n",
      " 18  (Open, EMTK.JK)       1241 non-null   float64\n",
      " 19  (Open, HRUM.JK)       1241 non-null   float64\n",
      " 20  (Volume, ASSA.JK)     0 non-null      float64\n",
      " 21  (Volume, BBRI.JK)     1240 non-null   float64\n",
      " 22  (Volume, EMTK.JK)     1241 non-null   int64  \n",
      " 23  (Volume, HRUM.JK)     1241 non-null   int64  \n",
      "dtypes: float64(22), int64(2)\n",
      "memory usage: 242.4+ KB\n"
     ]
    }
   ],
   "source": [
    "df_stock.info()"
   ]
  },
  {
   "cell_type": "code",
   "execution_count": 8,
   "id": "6aa914cb",
   "metadata": {},
   "outputs": [
    {
     "name": "stdout",
     "output_type": "stream",
     "text": [
      "[*********************100%***********************]  1 of 1 completed\n",
      "\n",
      "1 Failed download:\n",
      "- ASSA.JK: No data found for this date range, symbol may be delisted\n"
     ]
    }
   ],
   "source": [
    "df_assa = yf.download('ASSA.JK', start=start_date, end=end_date)"
   ]
  },
  {
   "cell_type": "code",
   "execution_count": 9,
   "id": "bf60e2f3",
   "metadata": {},
   "outputs": [
    {
     "data": {
      "text/html": [
       "<div>\n",
       "<style scoped>\n",
       "    .dataframe tbody tr th:only-of-type {\n",
       "        vertical-align: middle;\n",
       "    }\n",
       "\n",
       "    .dataframe tbody tr th {\n",
       "        vertical-align: top;\n",
       "    }\n",
       "\n",
       "    .dataframe thead th {\n",
       "        text-align: right;\n",
       "    }\n",
       "</style>\n",
       "<table border=\"1\" class=\"dataframe\">\n",
       "  <thead>\n",
       "    <tr style=\"text-align: right;\">\n",
       "      <th></th>\n",
       "      <th>Open</th>\n",
       "      <th>High</th>\n",
       "      <th>Low</th>\n",
       "      <th>Close</th>\n",
       "      <th>Adj Close</th>\n",
       "      <th>Volume</th>\n",
       "    </tr>\n",
       "    <tr>\n",
       "      <th>Date</th>\n",
       "      <th></th>\n",
       "      <th></th>\n",
       "      <th></th>\n",
       "      <th></th>\n",
       "      <th></th>\n",
       "      <th></th>\n",
       "    </tr>\n",
       "  </thead>\n",
       "  <tbody>\n",
       "  </tbody>\n",
       "</table>\n",
       "</div>"
      ],
      "text/plain": [
       "Empty DataFrame\n",
       "Columns: [Open, High, Low, Close, Adj Close, Volume]\n",
       "Index: []"
      ]
     },
     "execution_count": 9,
     "metadata": {},
     "output_type": "execute_result"
    }
   ],
   "source": [
    "df_assa.head()"
   ]
  },
  {
   "cell_type": "code",
   "execution_count": 10,
   "id": "2aa01296",
   "metadata": {},
   "outputs": [
    {
     "data": {
      "text/plain": [
       "<Axes: xlabel='Date'>"
      ]
     },
     "execution_count": 10,
     "metadata": {},
     "output_type": "execute_result"
    },
    {
     "data": {
      "image/png": "[encoded data removed]",
      "text/plain": [
       "<Figure size 1000x400 with 1 Axes>"
      ]
     },
     "metadata": {},
     "output_type": "display_data"
    }
   ],
   "source": [
    "df_assa['Close'].plot(legend=True,figsize=(10,4))"
   ]
  },
  {
   "cell_type": "code",
   "execution_count": 11,
   "id": "84447634",
   "metadata": {},
   "outputs": [
    {
     "data": {
      "text/plain": [
       "<Axes: xlabel='Date'>"
      ]
     },
     "execution_count": 11,
     "metadata": {},
     "output_type": "execute_result"
    },
    {
     "data": {
      "image/png": "[encoded data removed]",
      "text/plain": [
       "<Figure size 1000x400 with 1 Axes>"
      ]
     },
     "metadata": {},
     "output_type": "display_data"
    }
   ],
   "source": [
    "df_assa['Volume'].plot(legend=True,figsize=(10,4))"
   ]
  },
  {
   "cell_type": "code",
   "execution_count": 12,
   "id": "5bd3938e",
   "metadata": {},
   "outputs": [],
   "source": [
    "ma_days = [50,100,200]\n",
    "\n",
    "for ma in ma_days:\n",
    "    column_names = \"MA for %s days\" %(str(ma))\n",
    "    df_assa[column_names] = df_assa['Close'].rolling(ma).mean()"
   ]
  },
  {
   "cell_type": "code",
   "execution_count": 13,
   "id": "b3a0f40a",
   "metadata": {},
   "outputs": [
    {
     "data": {
      "text/plain": [
       "<Axes: xlabel='Date'>"
      ]
     },
     "execution_count": 13,
     "metadata": {},
     "output_type": "execute_result"
    },
    {
     "data": {
      "image/png": "[encoded data removed]",
      "text/plain": [
       "<Figure size 1000x400 with 1 Axes>"
      ]
     },
     "metadata": {},
     "output_type": "display_data"
    }
   ],
   "source": [
    "df_assa[['Close','MA for 50 days','MA for 100 days','MA for 200 days']].plot(figsize=(10,4))"
   ]
  },
  {
   "cell_type": "code",
   "execution_count": 14,
   "id": "3883b50e",
   "metadata": {},
   "outputs": [
    {
     "data": {
      "text/html": [
       "<div>\n",
       "<style scoped>\n",
       "    .dataframe tbody tr th:only-of-type {\n",
       "        vertical-align: middle;\n",
       "    }\n",
       "\n",
       "    .dataframe tbody tr th {\n",
       "        vertical-align: top;\n",
       "    }\n",
       "\n",
       "    .dataframe thead th {\n",
       "        text-align: right;\n",
       "    }\n",
       "</style>\n",
       "<table border=\"1\" class=\"dataframe\">\n",
       "  <thead>\n",
       "    <tr style=\"text-align: right;\">\n",
       "      <th></th>\n",
       "      <th>Open</th>\n",
       "      <th>High</th>\n",
       "      <th>Low</th>\n",
       "      <th>Close</th>\n",
       "      <th>Adj Close</th>\n",
       "      <th>Volume</th>\n",
       "      <th>MA for 50 days</th>\n",
       "      <th>MA for 100 days</th>\n",
       "      <th>MA for 200 days</th>\n",
       "    </tr>\n",
       "    <tr>\n",
       "      <th>Date</th>\n",
       "      <th></th>\n",
       "      <th></th>\n",
       "      <th></th>\n",
       "      <th></th>\n",
       "      <th></th>\n",
       "      <th></th>\n",
       "      <th></th>\n",
       "      <th></th>\n",
       "      <th></th>\n",
       "    </tr>\n",
       "  </thead>\n",
       "  <tbody>\n",
       "  </tbody>\n",
       "</table>\n",
       "</div>"
      ],
      "text/plain": [
       "Empty DataFrame\n",
       "Columns: [Open, High, Low, Close, Adj Close, Volume, MA for 50 days, MA for 100 days, MA for 200 days]\n",
       "Index: []"
      ]
     },
     "execution_count": 14,
     "metadata": {},
     "output_type": "execute_result"
    }
   ],
   "source": [
    "df_assa.head()"
   ]
  },
  {
   "cell_type": "code",
   "execution_count": 15,
   "id": "597f79e8",
   "metadata": {},
   "outputs": [
    {
     "data": {
      "text/html": [
       "<div>\n",
       "<style scoped>\n",
       "    .dataframe tbody tr th:only-of-type {\n",
       "        vertical-align: middle;\n",
       "    }\n",
       "\n",
       "    .dataframe tbody tr th {\n",
       "        vertical-align: top;\n",
       "    }\n",
       "\n",
       "    .dataframe thead th {\n",
       "        text-align: right;\n",
       "    }\n",
       "</style>\n",
       "<table border=\"1\" class=\"dataframe\">\n",
       "  <thead>\n",
       "    <tr style=\"text-align: right;\">\n",
       "      <th></th>\n",
       "      <th>Open</th>\n",
       "      <th>High</th>\n",
       "      <th>Low</th>\n",
       "      <th>Close</th>\n",
       "      <th>Adj Close</th>\n",
       "      <th>Volume</th>\n",
       "      <th>MA for 50 days</th>\n",
       "      <th>MA for 100 days</th>\n",
       "      <th>MA for 200 days</th>\n",
       "      <th>Daily Return</th>\n",
       "    </tr>\n",
       "    <tr>\n",
       "      <th>Date</th>\n",
       "      <th></th>\n",
       "      <th></th>\n",
       "      <th></th>\n",
       "      <th></th>\n",
       "      <th></th>\n",
       "      <th></th>\n",
       "      <th></th>\n",
       "      <th></th>\n",
       "      <th></th>\n",
       "      <th></th>\n",
       "    </tr>\n",
       "  </thead>\n",
       "  <tbody>\n",
       "  </tbody>\n",
       "</table>\n",
       "</div>"
      ],
      "text/plain": [
       "Empty DataFrame\n",
       "Columns: [Open, High, Low, Close, Adj Close, Volume, MA for 50 days, MA for 100 days, MA for 200 days, Daily Return]\n",
       "Index: []"
      ]
     },
     "execution_count": 15,
     "metadata": {},
     "output_type": "execute_result"
    }
   ],
   "source": [
    "df_assa['Daily Return'] = df_assa['Close'].pct_change()\n",
    "df_assa.head()"
   ]
  },
  {
   "cell_type": "code",
   "execution_count": 16,
   "id": "90d09641",
   "metadata": {},
   "outputs": [
    {
     "data": {
      "text/plain": [
       "<Axes: xlabel='Date'>"
      ]
     },
     "execution_count": 16,
     "metadata": {},
     "output_type": "execute_result"
    },
    {
     "data": {
      "image/png": "[encoded data removed]",
      "text/plain": [
       "<Figure size 1600x600 with 1 Axes>"
      ]
     },
     "metadata": {},
     "output_type": "display_data"
    }
   ],
   "source": [
    "df_assa['Daily Return'].dropna().plot(legend=True,figsize=(16,6),marker='o',linestyle='--')"
   ]
  },
  {
   "cell_type": "code",
   "execution_count": 17,
   "id": "f253ab95",
   "metadata": {},
   "outputs": [
    {
     "data": {
      "text/plain": [
       "<Axes: >"
      ]
     },
     "execution_count": 17,
     "metadata": {},
     "output_type": "execute_result"
    },
    {
     "data": {
      "image/png": "[encoded data removed]",
      "text/plain": [
       "<Figure size 640x480 with 1 Axes>"
      ]
     },
     "metadata": {},
     "output_type": "display_data"
    }
   ],
   "source": [
    "sns.histplot(data=df_assa['Daily Return'].dropna(),kde=True,color='purple',bins=50)"
   ]
  },
  {
   "cell_type": "code",
   "execution_count": 18,
   "id": "24b1ded9",
   "metadata": {},
   "outputs": [
    {
     "data": {
      "text/html": [
       "<div>\n",
       "<style scoped>\n",
       "    .dataframe tbody tr th:only-of-type {\n",
       "        vertical-align: middle;\n",
       "    }\n",
       "\n",
       "    .dataframe tbody tr th {\n",
       "        vertical-align: top;\n",
       "    }\n",
       "\n",
       "    .dataframe thead th {\n",
       "        text-align: right;\n",
       "    }\n",
       "</style>\n",
       "<table border=\"1\" class=\"dataframe\">\n",
       "  <thead>\n",
       "    <tr style=\"text-align: right;\">\n",
       "      <th></th>\n",
       "      <th>ASSA.JK</th>\n",
       "      <th>BBRI.JK</th>\n",
       "      <th>EMTK.JK</th>\n",
       "      <th>HRUM.JK</th>\n",
       "    </tr>\n",
       "    <tr>\n",
       "      <th>Date</th>\n",
       "      <th></th>\n",
       "      <th></th>\n",
       "      <th></th>\n",
       "      <th></th>\n",
       "    </tr>\n",
       "  </thead>\n",
       "  <tbody>\n",
       "    <tr>\n",
       "      <th>2018-06-05 00:00:00</th>\n",
       "      <td>NaN</td>\n",
       "      <td>3110.0</td>\n",
       "      <td>895.0</td>\n",
       "      <td>604.0</td>\n",
       "    </tr>\n",
       "    <tr>\n",
       "      <th>2018-06-06 00:00:00</th>\n",
       "      <td>NaN</td>\n",
       "      <td>3150.0</td>\n",
       "      <td>895.0</td>\n",
       "      <td>590.0</td>\n",
       "    </tr>\n",
       "    <tr>\n",
       "      <th>2018-06-07 00:00:00</th>\n",
       "      <td>NaN</td>\n",
       "      <td>3270.0</td>\n",
       "      <td>895.0</td>\n",
       "      <td>596.0</td>\n",
       "    </tr>\n",
       "    <tr>\n",
       "      <th>2018-06-08 00:00:00</th>\n",
       "      <td>NaN</td>\n",
       "      <td>3140.0</td>\n",
       "      <td>895.0</td>\n",
       "      <td>596.0</td>\n",
       "    </tr>\n",
       "    <tr>\n",
       "      <th>2018-06-11 00:00:00</th>\n",
       "      <td>NaN</td>\n",
       "      <td>3140.0</td>\n",
       "      <td>895.0</td>\n",
       "      <td>596.0</td>\n",
       "    </tr>\n",
       "  </tbody>\n",
       "</table>\n",
       "</div>"
      ],
      "text/plain": [
       "                     ASSA.JK  BBRI.JK  EMTK.JK  HRUM.JK\n",
       "Date                                                   \n",
       "2018-06-05 00:00:00      NaN   3110.0    895.0    604.0\n",
       "2018-06-06 00:00:00      NaN   3150.0    895.0    590.0\n",
       "2018-06-07 00:00:00      NaN   3270.0    895.0    596.0\n",
       "2018-06-08 00:00:00      NaN   3140.0    895.0    596.0\n",
       "2018-06-11 00:00:00      NaN   3140.0    895.0    596.0"
      ]
     },
     "execution_count": 18,
     "metadata": {},
     "output_type": "execute_result"
    }
   ],
   "source": [
    "df_stock['Close'].head()"
   ]
  },
  {
   "cell_type": "code",
   "execution_count": 19,
   "id": "ee141ce7",
   "metadata": {},
   "outputs": [
    {
     "data": {
      "text/html": [
       "<div>\n",
       "<style scoped>\n",
       "    .dataframe tbody tr th:only-of-type {\n",
       "        vertical-align: middle;\n",
       "    }\n",
       "\n",
       "    .dataframe tbody tr th {\n",
       "        vertical-align: top;\n",
       "    }\n",
       "\n",
       "    .dataframe thead th {\n",
       "        text-align: right;\n",
       "    }\n",
       "</style>\n",
       "<table border=\"1\" class=\"dataframe\">\n",
       "  <thead>\n",
       "    <tr style=\"text-align: right;\">\n",
       "      <th></th>\n",
       "      <th>ASSA.JK</th>\n",
       "      <th>BBRI.JK</th>\n",
       "      <th>EMTK.JK</th>\n",
       "      <th>HRUM.JK</th>\n",
       "    </tr>\n",
       "    <tr>\n",
       "      <th>Date</th>\n",
       "      <th></th>\n",
       "      <th></th>\n",
       "      <th></th>\n",
       "      <th></th>\n",
       "    </tr>\n",
       "  </thead>\n",
       "  <tbody>\n",
       "    <tr>\n",
       "      <th>2018-06-05 00:00:00</th>\n",
       "      <td>NaN</td>\n",
       "      <td>3110.0</td>\n",
       "      <td>895.0</td>\n",
       "      <td>604.0</td>\n",
       "    </tr>\n",
       "    <tr>\n",
       "      <th>2018-06-06 00:00:00</th>\n",
       "      <td>NaN</td>\n",
       "      <td>3150.0</td>\n",
       "      <td>895.0</td>\n",
       "      <td>590.0</td>\n",
       "    </tr>\n",
       "    <tr>\n",
       "      <th>2018-06-07 00:00:00</th>\n",
       "      <td>NaN</td>\n",
       "      <td>3270.0</td>\n",
       "      <td>895.0</td>\n",
       "      <td>596.0</td>\n",
       "    </tr>\n",
       "    <tr>\n",
       "      <th>2018-06-08 00:00:00</th>\n",
       "      <td>NaN</td>\n",
       "      <td>3140.0</td>\n",
       "      <td>895.0</td>\n",
       "      <td>596.0</td>\n",
       "    </tr>\n",
       "    <tr>\n",
       "      <th>2018-06-11 00:00:00</th>\n",
       "      <td>NaN</td>\n",
       "      <td>3140.0</td>\n",
       "      <td>895.0</td>\n",
       "      <td>596.0</td>\n",
       "    </tr>\n",
       "  </tbody>\n",
       "</table>\n",
       "</div>"
      ],
      "text/plain": [
       "                     ASSA.JK  BBRI.JK  EMTK.JK  HRUM.JK\n",
       "Date                                                   \n",
       "2018-06-05 00:00:00      NaN   3110.0    895.0    604.0\n",
       "2018-06-06 00:00:00      NaN   3150.0    895.0    590.0\n",
       "2018-06-07 00:00:00      NaN   3270.0    895.0    596.0\n",
       "2018-06-08 00:00:00      NaN   3140.0    895.0    596.0\n",
       "2018-06-11 00:00:00      NaN   3140.0    895.0    596.0"
      ]
     },
     "execution_count": 19,
     "metadata": {},
     "output_type": "execute_result"
    }
   ],
   "source": [
    "df_stock_close = df_stock['Close']\n",
    "df_stock_close.head()"
   ]
  },
  {
   "cell_type": "code",
   "execution_count": 20,
   "id": "91279ac7",
   "metadata": {},
   "outputs": [
    {
     "data": {
      "text/html": [
       "<div>\n",
       "<style scoped>\n",
       "    .dataframe tbody tr th:only-of-type {\n",
       "        vertical-align: middle;\n",
       "    }\n",
       "\n",
       "    .dataframe tbody tr th {\n",
       "        vertical-align: top;\n",
       "    }\n",
       "\n",
       "    .dataframe thead th {\n",
       "        text-align: right;\n",
       "    }\n",
       "</style>\n",
       "<table border=\"1\" class=\"dataframe\">\n",
       "  <thead>\n",
       "    <tr style=\"text-align: right;\">\n",
       "      <th></th>\n",
       "      <th>ASSA.JK</th>\n",
       "      <th>BBRI.JK</th>\n",
       "      <th>EMTK.JK</th>\n",
       "      <th>HRUM.JK</th>\n",
       "    </tr>\n",
       "    <tr>\n",
       "      <th>Date</th>\n",
       "      <th></th>\n",
       "      <th></th>\n",
       "      <th></th>\n",
       "      <th></th>\n",
       "    </tr>\n",
       "  </thead>\n",
       "  <tbody>\n",
       "    <tr>\n",
       "      <th>2018-06-05</th>\n",
       "      <td>NaN</td>\n",
       "      <td>NaN</td>\n",
       "      <td>NaN</td>\n",
       "      <td>NaN</td>\n",
       "    </tr>\n",
       "    <tr>\n",
       "      <th>2018-06-06</th>\n",
       "      <td>NaN</td>\n",
       "      <td>0.012862</td>\n",
       "      <td>0.000000</td>\n",
       "      <td>-0.023179</td>\n",
       "    </tr>\n",
       "    <tr>\n",
       "      <th>2018-06-07</th>\n",
       "      <td>NaN</td>\n",
       "      <td>0.038095</td>\n",
       "      <td>0.000000</td>\n",
       "      <td>0.010169</td>\n",
       "    </tr>\n",
       "    <tr>\n",
       "      <th>2018-06-08</th>\n",
       "      <td>NaN</td>\n",
       "      <td>-0.039755</td>\n",
       "      <td>0.000000</td>\n",
       "      <td>0.000000</td>\n",
       "    </tr>\n",
       "    <tr>\n",
       "      <th>2018-06-11</th>\n",
       "      <td>NaN</td>\n",
       "      <td>0.000000</td>\n",
       "      <td>0.000000</td>\n",
       "      <td>0.000000</td>\n",
       "    </tr>\n",
       "    <tr>\n",
       "      <th>...</th>\n",
       "      <td>...</td>\n",
       "      <td>...</td>\n",
       "      <td>...</td>\n",
       "      <td>...</td>\n",
       "    </tr>\n",
       "    <tr>\n",
       "      <th>2023-05-26</th>\n",
       "      <td>NaN</td>\n",
       "      <td>0.022831</td>\n",
       "      <td>-0.040323</td>\n",
       "      <td>-0.015625</td>\n",
       "    </tr>\n",
       "    <tr>\n",
       "      <th>2023-05-29</th>\n",
       "      <td>NaN</td>\n",
       "      <td>-0.008929</td>\n",
       "      <td>-0.016807</td>\n",
       "      <td>0.035714</td>\n",
       "    </tr>\n",
       "    <tr>\n",
       "      <th>2023-05-30</th>\n",
       "      <td>NaN</td>\n",
       "      <td>-0.009009</td>\n",
       "      <td>0.042735</td>\n",
       "      <td>0.042146</td>\n",
       "    </tr>\n",
       "    <tr>\n",
       "      <th>2023-05-31</th>\n",
       "      <td>NaN</td>\n",
       "      <td>0.013636</td>\n",
       "      <td>-0.024590</td>\n",
       "      <td>0.036765</td>\n",
       "    </tr>\n",
       "    <tr>\n",
       "      <th>2023-06-05</th>\n",
       "      <td>NaN</td>\n",
       "      <td>-0.022422</td>\n",
       "      <td>0.016807</td>\n",
       "      <td>0.003546</td>\n",
       "    </tr>\n",
       "  </tbody>\n",
       "</table>\n",
       "<p>1241 rows × 4 columns</p>\n",
       "</div>"
      ],
      "text/plain": [
       "            ASSA.JK   BBRI.JK   EMTK.JK   HRUM.JK\n",
       "Date                                             \n",
       "2018-06-05      NaN       NaN       NaN       NaN\n",
       "2018-06-06      NaN  0.012862  0.000000 -0.023179\n",
       "2018-06-07      NaN  0.038095  0.000000  0.010169\n",
       "2018-06-08      NaN -0.039755  0.000000  0.000000\n",
       "2018-06-11      NaN  0.000000  0.000000  0.000000\n",
       "...             ...       ...       ...       ...\n",
       "2023-05-26      NaN  0.022831 -0.040323 -0.015625\n",
       "2023-05-29      NaN -0.008929 -0.016807  0.035714\n",
       "2023-05-30      NaN -0.009009  0.042735  0.042146\n",
       "2023-05-31      NaN  0.013636 -0.024590  0.036765\n",
       "2023-06-05      NaN -0.022422  0.016807  0.003546\n",
       "\n",
       "[1241 rows x 4 columns]"
      ]
     },
     "execution_count": 20,
     "metadata": {},
     "output_type": "execute_result"
    }
   ],
   "source": [
    "pect_change = df_stock_close.pct_change()\n",
    "pect_change"
   ]
  },
  {
   "cell_type": "code",
   "execution_count": 21,
   "id": "21ad4697",
   "metadata": {},
   "outputs": [
    {
     "data": {
      "text/plain": [
       "array([<Axes: xlabel='Date'>, <Axes: xlabel='Date'>,\n",
       "       <Axes: xlabel='Date'>, <Axes: xlabel='Date'>], dtype=object)"
      ]
     },
     "execution_count": 21,
     "metadata": {},
     "output_type": "execute_result"
    },
    {
     "data": {
      "image/png": "[encoded data removed]",
      "text/plain": [
       "<Figure size 1600x1000 with 4 Axes>"
      ]
     },
     "metadata": {},
     "output_type": "display_data"
    }
   ],
   "source": [
    "pect_change.dropna().plot(subplots=True,legend=True,figsize=(16,10))"
   ]
  },
  {
   "cell_type": "code",
   "execution_count": 22,
   "id": "a2236e33",
   "metadata": {},
   "outputs": [
    {
     "data": {
      "text/plain": [
       "<seaborn.axisgrid.JointGrid at 0x21dc1e60460>"
      ]
     },
     "execution_count": 22,
     "metadata": {},
     "output_type": "execute_result"
    },
    {
     "data": {
      "image/png": "[encoded data removed]",
      "text/plain": [
       "<Figure size 600x600 with 3 Axes>"
      ]
     },
     "metadata": {},
     "output_type": "display_data"
    }
   ],
   "source": [
    "sns.jointplot(data=df_stock_close,x='ASSA.JK',y='ASSA.JK', kind='scatter',color='green')"
   ]
  },
  {
   "cell_type": "code",
   "execution_count": 23,
   "id": "a449a48f",
   "metadata": {},
   "outputs": [
    {
     "data": {
      "text/plain": [
       "<seaborn.axisgrid.JointGrid at 0x21dc2bcabf0>"
      ]
     },
     "execution_count": 23,
     "metadata": {},
     "output_type": "execute_result"
    },
    {
     "data": {
      "image/png": "[encoded data removed]",
      "text/plain": [
       "<Figure size 600x600 with 3 Axes>"
      ]
     },
     "metadata": {},
     "output_type": "display_data"
    }
   ],
   "source": [
    "sns.jointplot(data=df_stock_close,x='HRUM.JK',y='ASSA.JK',kind='scatter',color='seagreen')"
   ]
  },
  {
   "cell_type": "code",
   "execution_count": 24,
   "id": "f8791098",
   "metadata": {},
   "outputs": [
    {
     "data": {
      "text/plain": [
       "<seaborn.axisgrid.JointGrid at 0x21dc265bfd0>"
      ]
     },
     "execution_count": 24,
     "metadata": {},
     "output_type": "execute_result"
    },
    {
     "data": {
      "image/png": "[encoded data removed]",
      "text/plain": [
       "<Figure size 600x600 with 3 Axes>"
      ]
     },
     "metadata": {},
     "output_type": "display_data"
    }
   ],
   "source": [
    "sns.jointplot(data=df_stock_close,x='ASSA.JK',y='HRUM.JK',kind='scatter',color='red')"
   ]
  },
  {
   "cell_type": "code",
   "execution_count": 25,
   "id": "ee8e31ac",
   "metadata": {},
   "outputs": [
    {
     "data": {
      "text/plain": [
       "<seaborn.axisgrid.PairGrid at 0x21dc26589d0>"
      ]
     },
     "execution_count": 25,
     "metadata": {},
     "output_type": "execute_result"
    },
    {
     "data": {
      "image/png": "[encoded data removed]",
      "text/plain": [
       "<Figure size 1000x1000 with 20 Axes>"
      ]
     },
     "metadata": {},
     "output_type": "display_data"
    }
   ],
   "source": [
    "sns.pairplot(df_stock_close.dropna())"
   ]
  },
  {
   "cell_type": "code",
   "execution_count": 26,
   "id": "e0df29ef",
   "metadata": {},
   "outputs": [
    {
     "data": {
      "text/plain": [
       "<seaborn.axisgrid.PairGrid at 0x21dc2bcad40>"
      ]
     },
     "execution_count": 26,
     "metadata": {},
     "output_type": "execute_result"
    },
    {
     "data": {
      "image/png": "[encoded data removed]",
      "text/plain": [
       "<Figure size 1000x1000 with 20 Axes>"
      ]
     },
     "metadata": {},
     "output_type": "display_data"
    }
   ],
   "source": [
    "return_fig = sns.PairGrid(df_stock_close.dropna())\n",
    "return_fig.map_upper(plt.scatter,color='green')\n",
    "return_fig.map_lower(sns.kdeplot,cmap='cool_d')\n",
    "return_fig.map_diag(plt.hist,bins=50)"
   ]
  },
  {
   "cell_type": "code",
   "execution_count": 27,
   "id": "76b33e02",
   "metadata": {},
   "outputs": [
    {
     "data": {
      "text/plain": [
       "<seaborn.axisgrid.PairGrid at 0x21dc522ba30>"
      ]
     },
     "execution_count": 27,
     "metadata": {},
     "output_type": "execute_result"
    },
    {
     "data": {
      "image/png": "[encoded data removed]",
      "text/plain": [
       "<Figure size 1000x1000 with 20 Axes>"
      ]
     },
     "metadata": {},
     "output_type": "display_data"
    }
   ],
   "source": [
    "return_fig = sns.PairGrid(pect_change.dropna())\n",
    "return_fig.map_upper(plt.scatter,color='green')\n",
    "return_fig.map_lower(sns.kdeplot,cmap='cool_d')\n",
    "return_fig.map_diag(plt.hist,bins=50)"
   ]
  },
  {
   "cell_type": "code",
   "execution_count": 28,
   "id": "b0891717",
   "metadata": {},
   "outputs": [
    {
     "data": {
      "text/plain": [
       "<Axes: >"
      ]
     },
     "execution_count": 28,
     "metadata": {},
     "output_type": "execute_result"
    },
    {
     "data": {
      "image/png": "[encoded data removed]",
      "text/plain": [
       "<Figure size 640x480 with 2 Axes>"
      ]
     },
     "metadata": {},
     "output_type": "display_data"
    }
   ],
   "source": [
    "sns.heatmap(pect_change.corr(),annot=True)"
   ]
  },
  {
   "cell_type": "code",
   "execution_count": 29,
   "id": "d89cab7e",
   "metadata": {},
   "outputs": [
    {
     "data": {
      "image/png": "[encoded data removed]",
      "text/plain": [
       "<Figure size 640x480 with 1 Axes>"
      ]
     },
     "metadata": {},
     "output_type": "display_data"
    }
   ],
   "source": [
    "pect = pect_change.dropna()\n",
    "\n",
    "area = np.pi*30\n",
    "\n",
    "plt.scatter(pect.mean(), pect.std(),alpha=0.5,s=area)\n",
    "\n",
    "plt.xlabel('Expected Return')\n",
    "plt.ylabel('Risk')\n",
    "\n",
    "for label,x,y in zip(pect.columns, pect.mean(), pect.std()):\n",
    "    plt.annotate(label, xy = (x,y), xytext=(50,50), textcoords='offset points', ha='right', va='bottom', \n",
    "                arrowprops = dict(arrowstyle='-', connectionstyle='arc3,rad=-0.3'))"
   ]
  },
  {
   "cell_type": "code",
   "execution_count": 30,
   "id": "e321f5ff",
   "metadata": {},
   "outputs": [
    {
     "data": {
      "text/plain": [
       "nan"
      ]
     },
     "execution_count": 30,
     "metadata": {},
     "output_type": "execute_result"
    }
   ],
   "source": [
    "pect['EMTK.JK'].quantile(0.01)"
   ]
  },
  {
   "cell_type": "code",
   "execution_count": 31,
   "id": "a7a6a653",
   "metadata": {},
   "outputs": [
    {
     "data": {
      "text/plain": [
       "nan"
      ]
     },
     "execution_count": 31,
     "metadata": {},
     "output_type": "execute_result"
    }
   ],
   "source": [
    "pect['BBRI.JK'].quantile(0.01)"
   ]
  },
  {
   "cell_type": "code",
   "execution_count": 32,
   "id": "d1ea4458",
   "metadata": {},
   "outputs": [
    {
     "data": {
      "text/plain": [
       "nan"
      ]
     },
     "execution_count": 32,
     "metadata": {},
     "output_type": "execute_result"
    }
   ],
   "source": [
    "pect['HRUM.JK'].quantile(0.01)"
   ]
  },
  {
   "cell_type": "code",
   "execution_count": 33,
   "id": "3b2cc804",
   "metadata": {},
   "outputs": [
    {
     "data": {
      "text/plain": [
       "nan"
      ]
     },
     "execution_count": 33,
     "metadata": {},
     "output_type": "execute_result"
    }
   ],
   "source": [
    "pect['ASSA.JK'].quantile(0.01)"
   ]
  },
  {
   "cell_type": "code",
   "execution_count": 34,
   "id": "9c78279d",
   "metadata": {},
   "outputs": [],
   "source": [
    "days = 365\n",
    "dt = 1/days\n",
    "mu = pect.mean()['ASSA.JK']\n",
    "sigma = pect.std()['ASSA.JK']"
   ]
  },
  {
   "cell_type": "code",
   "execution_count": 35,
   "id": "72c4fd9c",
   "metadata": {},
   "outputs": [],
   "source": [
    "def stock_monte_carlo(start_price,days,mu,sigma):\n",
    "    price = np.zeros(days)\n",
    "    price[0] = start_price\n",
    "    drift = np.zeros(days)\n",
    "    shock = np.zeros(days)\n",
    "    \n",
    "    for x in range(1,days):\n",
    "        drift[x] = mu * dt\n",
    "        shock[x] = np.random.normal(loc=mu*dt, scale=sigma * np.sqrt(dt))\n",
    "        price[x] = price[x-1] + (price[x-1] * (drift[x] + shock[x]))\n",
    "    return price"
   ]
  },
  {
   "cell_type": "code",
   "execution_count": 36,
   "id": "80467964",
   "metadata": {},
   "outputs": [
    {
     "data": {
      "text/plain": [
       "Text(0.5, 1.0, 'Monte Carlo Method for ASSA')"
      ]
     },
     "execution_count": 36,
     "metadata": {},
     "output_type": "execute_result"
    },
    {
     "data": {
      "image/png": "[encoded data removed]",
      "text/plain": [
       "<Figure size 640x480 with 1 Axes>"
      ]
     },
     "metadata": {},
     "output_type": "display_data"
    }
   ],
   "source": [
    "start_price = 700\n",
    "\n",
    "for x in range(1000):\n",
    "    plt.plot(stock_monte_carlo(start_price,days,mu,sigma))\n",
    "plt.xlabel('Days')\n",
    "plt.ylabel('Price')\n",
    "plt.title('Monte Carlo Method for ASSA')"
   ]
  },
  {
   "cell_type": "code",
   "execution_count": 37,
   "id": "f5884f54",
   "metadata": {},
   "outputs": [],
   "source": [
    "runs = 10000\n",
    "\n",
    "simulations = np.zeros(runs)\n",
    "\n",
    "for x in range(runs):\n",
    "    simulations[x] = stock_monte_carlo(start_price,days,mu,sigma)[days - 1]"
   ]
  },
  {
   "cell_type": "code",
   "execution_count": 38,
   "id": "4cbf2e0e",
   "metadata": {},
   "outputs": [
    {
     "name": "stderr",
     "output_type": "stream",
     "text": [
      "C:\\Users\\asus\\anaconda3\\lib\\site-packages\\matplotlib\\axes\\_axes.py:6762: RuntimeWarning: All-NaN slice encountered\n",
      "  xmin = min(xmin, np.nanmin(xi))\n",
      "C:\\Users\\asus\\anaconda3\\lib\\site-packages\\matplotlib\\axes\\_axes.py:6763: RuntimeWarning: All-NaN slice encountered\n",
      "  xmax = max(xmax, np.nanmax(xi))\n"
     ]
    },
    {
     "ename": "ValueError",
     "evalue": "autodetected range of [nan, nan] is not finite",
     "output_type": "error",
     "traceback": [
      "\u001b[1;31m---------------------------------------------------------------------------\u001b[0m",
      "\u001b[1;31mValueError\u001b[0m                                Traceback (most recent call last)",
      "Cell \u001b[1;32mIn[38], line 3\u001b[0m\n\u001b[0;32m      1\u001b[0m q \u001b[38;5;241m=\u001b[39m np\u001b[38;5;241m.\u001b[39mpercentile(simulations,\u001b[38;5;241m1\u001b[39m)\n\u001b[1;32m----> 3\u001b[0m \u001b[43mplt\u001b[49m\u001b[38;5;241;43m.\u001b[39;49m\u001b[43mhist\u001b[49m\u001b[43m(\u001b[49m\u001b[43msimulations\u001b[49m\u001b[43m,\u001b[49m\u001b[43mbins\u001b[49m\u001b[38;5;241;43m=\u001b[39;49m\u001b[38;5;241;43m200\u001b[39;49m\u001b[43m)\u001b[49m\n\u001b[0;32m      5\u001b[0m plt\u001b[38;5;241m.\u001b[39mfigtext(\u001b[38;5;241m0.6\u001b[39m,\u001b[38;5;241m0.8\u001b[39m,s\u001b[38;5;241m=\u001b[39m\u001b[38;5;124m\"\u001b[39m\u001b[38;5;124mStart Price: Rp.\u001b[39m\u001b[38;5;132;01m%.2f\u001b[39;00m\u001b[38;5;124m\"\u001b[39m \u001b[38;5;241m%\u001b[39mstart_price)\n\u001b[0;32m      6\u001b[0m plt\u001b[38;5;241m.\u001b[39mfigtext(\u001b[38;5;241m0.6\u001b[39m,\u001b[38;5;241m0.7\u001b[39m,s\u001b[38;5;241m=\u001b[39m\u001b[38;5;124m\"\u001b[39m\u001b[38;5;124mMean Final Price: Rp.\u001b[39m\u001b[38;5;132;01m%.2f\u001b[39;00m\u001b[38;5;124m\"\u001b[39m \u001b[38;5;241m%\u001b[39msimulations\u001b[38;5;241m.\u001b[39mmean())\n",
      "File \u001b[1;32m~\\anaconda3\\lib\\site-packages\\matplotlib\\pyplot.py:2645\u001b[0m, in \u001b[0;36mhist\u001b[1;34m(x, bins, range, density, weights, cumulative, bottom, histtype, align, orientation, rwidth, log, color, label, stacked, data, **kwargs)\u001b[0m\n\u001b[0;32m   2639\u001b[0m \u001b[38;5;129m@_copy_docstring_and_deprecators\u001b[39m(Axes\u001b[38;5;241m.\u001b[39mhist)\n\u001b[0;32m   2640\u001b[0m \u001b[38;5;28;01mdef\u001b[39;00m \u001b[38;5;21mhist\u001b[39m(\n\u001b[0;32m   2641\u001b[0m         x, bins\u001b[38;5;241m=\u001b[39m\u001b[38;5;28;01mNone\u001b[39;00m, \u001b[38;5;28mrange\u001b[39m\u001b[38;5;241m=\u001b[39m\u001b[38;5;28;01mNone\u001b[39;00m, density\u001b[38;5;241m=\u001b[39m\u001b[38;5;28;01mFalse\u001b[39;00m, weights\u001b[38;5;241m=\u001b[39m\u001b[38;5;28;01mNone\u001b[39;00m,\n\u001b[0;32m   2642\u001b[0m         cumulative\u001b[38;5;241m=\u001b[39m\u001b[38;5;28;01mFalse\u001b[39;00m, bottom\u001b[38;5;241m=\u001b[39m\u001b[38;5;28;01mNone\u001b[39;00m, histtype\u001b[38;5;241m=\u001b[39m\u001b[38;5;124m'\u001b[39m\u001b[38;5;124mbar\u001b[39m\u001b[38;5;124m'\u001b[39m, align\u001b[38;5;241m=\u001b[39m\u001b[38;5;124m'\u001b[39m\u001b[38;5;124mmid\u001b[39m\u001b[38;5;124m'\u001b[39m,\n\u001b[0;32m   2643\u001b[0m         orientation\u001b[38;5;241m=\u001b[39m\u001b[38;5;124m'\u001b[39m\u001b[38;5;124mvertical\u001b[39m\u001b[38;5;124m'\u001b[39m, rwidth\u001b[38;5;241m=\u001b[39m\u001b[38;5;28;01mNone\u001b[39;00m, log\u001b[38;5;241m=\u001b[39m\u001b[38;5;28;01mFalse\u001b[39;00m, color\u001b[38;5;241m=\u001b[39m\u001b[38;5;28;01mNone\u001b[39;00m,\n\u001b[0;32m   2644\u001b[0m         label\u001b[38;5;241m=\u001b[39m\u001b[38;5;28;01mNone\u001b[39;00m, stacked\u001b[38;5;241m=\u001b[39m\u001b[38;5;28;01mFalse\u001b[39;00m, \u001b[38;5;241m*\u001b[39m, data\u001b[38;5;241m=\u001b[39m\u001b[38;5;28;01mNone\u001b[39;00m, \u001b[38;5;241m*\u001b[39m\u001b[38;5;241m*\u001b[39mkwargs):\n\u001b[1;32m-> 2645\u001b[0m     \u001b[38;5;28;01mreturn\u001b[39;00m gca()\u001b[38;5;241m.\u001b[39mhist(\n\u001b[0;32m   2646\u001b[0m         x, bins\u001b[38;5;241m=\u001b[39mbins, \u001b[38;5;28mrange\u001b[39m\u001b[38;5;241m=\u001b[39m\u001b[38;5;28mrange\u001b[39m, density\u001b[38;5;241m=\u001b[39mdensity, weights\u001b[38;5;241m=\u001b[39mweights,\n\u001b[0;32m   2647\u001b[0m         cumulative\u001b[38;5;241m=\u001b[39mcumulative, bottom\u001b[38;5;241m=\u001b[39mbottom, histtype\u001b[38;5;241m=\u001b[39mhisttype,\n\u001b[0;32m   2648\u001b[0m         align\u001b[38;5;241m=\u001b[39malign, orientation\u001b[38;5;241m=\u001b[39morientation, rwidth\u001b[38;5;241m=\u001b[39mrwidth, log\u001b[38;5;241m=\u001b[39mlog,\n\u001b[0;32m   2649\u001b[0m         color\u001b[38;5;241m=\u001b[39mcolor, label\u001b[38;5;241m=\u001b[39mlabel, stacked\u001b[38;5;241m=\u001b[39mstacked,\n\u001b[0;32m   2650\u001b[0m         \u001b[38;5;241m*\u001b[39m\u001b[38;5;241m*\u001b[39m({\u001b[38;5;124m\"\u001b[39m\u001b[38;5;124mdata\u001b[39m\u001b[38;5;124m\"\u001b[39m: data} \u001b[38;5;28;01mif\u001b[39;00m data \u001b[38;5;129;01mis\u001b[39;00m \u001b[38;5;129;01mnot\u001b[39;00m \u001b[38;5;28;01mNone\u001b[39;00m \u001b[38;5;28;01melse\u001b[39;00m {}), \u001b[38;5;241m*\u001b[39m\u001b[38;5;241m*\u001b[39mkwargs)\n",
      "File \u001b[1;32m~\\anaconda3\\lib\\site-packages\\matplotlib\\__init__.py:1442\u001b[0m, in \u001b[0;36m_preprocess_data.<locals>.inner\u001b[1;34m(ax, data, *args, **kwargs)\u001b[0m\n\u001b[0;32m   1439\u001b[0m \u001b[38;5;129m@functools\u001b[39m\u001b[38;5;241m.\u001b[39mwraps(func)\n\u001b[0;32m   1440\u001b[0m \u001b[38;5;28;01mdef\u001b[39;00m \u001b[38;5;21minner\u001b[39m(ax, \u001b[38;5;241m*\u001b[39margs, data\u001b[38;5;241m=\u001b[39m\u001b[38;5;28;01mNone\u001b[39;00m, \u001b[38;5;241m*\u001b[39m\u001b[38;5;241m*\u001b[39mkwargs):\n\u001b[0;32m   1441\u001b[0m     \u001b[38;5;28;01mif\u001b[39;00m data \u001b[38;5;129;01mis\u001b[39;00m \u001b[38;5;28;01mNone\u001b[39;00m:\n\u001b[1;32m-> 1442\u001b[0m         \u001b[38;5;28;01mreturn\u001b[39;00m func(ax, \u001b[38;5;241m*\u001b[39m\u001b[38;5;28mmap\u001b[39m(sanitize_sequence, args), \u001b[38;5;241m*\u001b[39m\u001b[38;5;241m*\u001b[39mkwargs)\n\u001b[0;32m   1444\u001b[0m     bound \u001b[38;5;241m=\u001b[39m new_sig\u001b[38;5;241m.\u001b[39mbind(ax, \u001b[38;5;241m*\u001b[39margs, \u001b[38;5;241m*\u001b[39m\u001b[38;5;241m*\u001b[39mkwargs)\n\u001b[0;32m   1445\u001b[0m     auto_label \u001b[38;5;241m=\u001b[39m (bound\u001b[38;5;241m.\u001b[39marguments\u001b[38;5;241m.\u001b[39mget(label_namer)\n\u001b[0;32m   1446\u001b[0m                   \u001b[38;5;129;01mor\u001b[39;00m bound\u001b[38;5;241m.\u001b[39mkwargs\u001b[38;5;241m.\u001b[39mget(label_namer))\n",
      "File \u001b[1;32m~\\anaconda3\\lib\\site-packages\\matplotlib\\axes\\_axes.py:6790\u001b[0m, in \u001b[0;36mAxes.hist\u001b[1;34m(self, x, bins, range, density, weights, cumulative, bottom, histtype, align, orientation, rwidth, log, color, label, stacked, **kwargs)\u001b[0m\n\u001b[0;32m   6786\u001b[0m \u001b[38;5;66;03m# Loop through datasets\u001b[39;00m\n\u001b[0;32m   6787\u001b[0m \u001b[38;5;28;01mfor\u001b[39;00m i \u001b[38;5;129;01min\u001b[39;00m \u001b[38;5;28mrange\u001b[39m(nx):\n\u001b[0;32m   6788\u001b[0m     \u001b[38;5;66;03m# this will automatically overwrite bins,\u001b[39;00m\n\u001b[0;32m   6789\u001b[0m     \u001b[38;5;66;03m# so that each histogram uses the same bins\u001b[39;00m\n\u001b[1;32m-> 6790\u001b[0m     m, bins \u001b[38;5;241m=\u001b[39m np\u001b[38;5;241m.\u001b[39mhistogram(x[i], bins, weights\u001b[38;5;241m=\u001b[39mw[i], \u001b[38;5;241m*\u001b[39m\u001b[38;5;241m*\u001b[39mhist_kwargs)\n\u001b[0;32m   6791\u001b[0m     tops\u001b[38;5;241m.\u001b[39mappend(m)\n\u001b[0;32m   6792\u001b[0m tops \u001b[38;5;241m=\u001b[39m np\u001b[38;5;241m.\u001b[39marray(tops, \u001b[38;5;28mfloat\u001b[39m)  \u001b[38;5;66;03m# causes problems later if it's an int\u001b[39;00m\n",
      "File \u001b[1;32m<__array_function__ internals>:180\u001b[0m, in \u001b[0;36mhistogram\u001b[1;34m(*args, **kwargs)\u001b[0m\n",
      "File \u001b[1;32m~\\anaconda3\\lib\\site-packages\\numpy\\lib\\histograms.py:793\u001b[0m, in \u001b[0;36mhistogram\u001b[1;34m(a, bins, range, normed, weights, density)\u001b[0m\n\u001b[0;32m    681\u001b[0m \u001b[38;5;124mr\u001b[39m\u001b[38;5;124;03m\"\"\"\u001b[39;00m\n\u001b[0;32m    682\u001b[0m \u001b[38;5;124;03mCompute the histogram of a dataset.\u001b[39;00m\n\u001b[0;32m    683\u001b[0m \n\u001b[1;32m   (...)\u001b[0m\n\u001b[0;32m    789\u001b[0m \n\u001b[0;32m    790\u001b[0m \u001b[38;5;124;03m\"\"\"\u001b[39;00m\n\u001b[0;32m    791\u001b[0m a, weights \u001b[38;5;241m=\u001b[39m _ravel_and_check_weights(a, weights)\n\u001b[1;32m--> 793\u001b[0m bin_edges, uniform_bins \u001b[38;5;241m=\u001b[39m \u001b[43m_get_bin_edges\u001b[49m\u001b[43m(\u001b[49m\u001b[43ma\u001b[49m\u001b[43m,\u001b[49m\u001b[43m \u001b[49m\u001b[43mbins\u001b[49m\u001b[43m,\u001b[49m\u001b[43m \u001b[49m\u001b[38;5;28;43mrange\u001b[39;49m\u001b[43m,\u001b[49m\u001b[43m \u001b[49m\u001b[43mweights\u001b[49m\u001b[43m)\u001b[49m\n\u001b[0;32m    795\u001b[0m \u001b[38;5;66;03m# Histogram is an integer or a float array depending on the weights.\u001b[39;00m\n\u001b[0;32m    796\u001b[0m \u001b[38;5;28;01mif\u001b[39;00m weights \u001b[38;5;129;01mis\u001b[39;00m \u001b[38;5;28;01mNone\u001b[39;00m:\n",
      "File \u001b[1;32m~\\anaconda3\\lib\\site-packages\\numpy\\lib\\histograms.py:426\u001b[0m, in \u001b[0;36m_get_bin_edges\u001b[1;34m(a, bins, range, weights)\u001b[0m\n\u001b[0;32m    423\u001b[0m     \u001b[38;5;28;01mif\u001b[39;00m n_equal_bins \u001b[38;5;241m<\u001b[39m \u001b[38;5;241m1\u001b[39m:\n\u001b[0;32m    424\u001b[0m         \u001b[38;5;28;01mraise\u001b[39;00m \u001b[38;5;167;01mValueError\u001b[39;00m(\u001b[38;5;124m'\u001b[39m\u001b[38;5;124m`bins` must be positive, when an integer\u001b[39m\u001b[38;5;124m'\u001b[39m)\n\u001b[1;32m--> 426\u001b[0m     first_edge, last_edge \u001b[38;5;241m=\u001b[39m \u001b[43m_get_outer_edges\u001b[49m\u001b[43m(\u001b[49m\u001b[43ma\u001b[49m\u001b[43m,\u001b[49m\u001b[43m \u001b[49m\u001b[38;5;28;43mrange\u001b[39;49m\u001b[43m)\u001b[49m\n\u001b[0;32m    428\u001b[0m \u001b[38;5;28;01melif\u001b[39;00m np\u001b[38;5;241m.\u001b[39mndim(bins) \u001b[38;5;241m==\u001b[39m \u001b[38;5;241m1\u001b[39m:\n\u001b[0;32m    429\u001b[0m     bin_edges \u001b[38;5;241m=\u001b[39m np\u001b[38;5;241m.\u001b[39masarray(bins)\n",
      "File \u001b[1;32m~\\anaconda3\\lib\\site-packages\\numpy\\lib\\histograms.py:323\u001b[0m, in \u001b[0;36m_get_outer_edges\u001b[1;34m(a, range)\u001b[0m\n\u001b[0;32m    321\u001b[0m     first_edge, last_edge \u001b[38;5;241m=\u001b[39m a\u001b[38;5;241m.\u001b[39mmin(), a\u001b[38;5;241m.\u001b[39mmax()\n\u001b[0;32m    322\u001b[0m     \u001b[38;5;28;01mif\u001b[39;00m \u001b[38;5;129;01mnot\u001b[39;00m (np\u001b[38;5;241m.\u001b[39misfinite(first_edge) \u001b[38;5;129;01mand\u001b[39;00m np\u001b[38;5;241m.\u001b[39misfinite(last_edge)):\n\u001b[1;32m--> 323\u001b[0m         \u001b[38;5;28;01mraise\u001b[39;00m \u001b[38;5;167;01mValueError\u001b[39;00m(\n\u001b[0;32m    324\u001b[0m             \u001b[38;5;124m\"\u001b[39m\u001b[38;5;124mautodetected range of [\u001b[39m\u001b[38;5;132;01m{}\u001b[39;00m\u001b[38;5;124m, \u001b[39m\u001b[38;5;132;01m{}\u001b[39;00m\u001b[38;5;124m] is not finite\u001b[39m\u001b[38;5;124m\"\u001b[39m\u001b[38;5;241m.\u001b[39mformat(first_edge, last_edge))\n\u001b[0;32m    326\u001b[0m \u001b[38;5;66;03m# expand empty range to avoid divide by zero\u001b[39;00m\n\u001b[0;32m    327\u001b[0m \u001b[38;5;28;01mif\u001b[39;00m first_edge \u001b[38;5;241m==\u001b[39m last_edge:\n",
      "\u001b[1;31mValueError\u001b[0m: autodetected range of [nan, nan] is not finite"
     ]
    },
    {
     "data": {
      "image/png": "[encoded data removed]",
      "text/plain": [
       "<Figure size 640x480 with 1 Axes>"
      ]
     },
     "metadata": {},
     "output_type": "display_data"
    }
   ],
   "source": [
    "q = np.percentile(simulations,1)\n",
    "\n",
    "plt.hist(simulations,bins=200)\n",
    "\n",
    "plt.figtext(0.6,0.8,s=\"Start Price: Rp.%.2f\" %start_price)\n",
    "plt.figtext(0.6,0.7,s=\"Mean Final Price: Rp.%.2f\" %simulations.mean())\n",
    "plt.figtext(0.6,0.6,s=\"VaR (0.99): Rp.%.2f\" %(start_price - q))\n",
    "plt.figtext(0.15,0.6,s=\"q(0.99): Rp.%.2f\" %q)\n",
    "plt.axvline(x=q,linewidth=4,color='r')\n",
    "plt.title(\"Final price distribution for ASSA Stock after %s days\" %days, weight='bold')"
   ]
  },
  {
   "cell_type": "code",
   "execution_count": null,
   "id": "6ff36690",
   "metadata": {},
   "outputs": [],
   "source": [
    "df_assa.tail()"
   ]
  },
  {
   "cell_type": "code",
   "execution_count": null,
   "id": "249870c7",
   "metadata": {},
   "outputs": [],
   "source": [
    "mu_hrum = pect.mean()['HRUM.JK']\n",
    "sigma_hrum = pect.std()['HRUM.JK']"
   ]
  },
  {
   "cell_type": "code",
   "execution_count": null,
   "id": "af4bd4cd",
   "metadata": {},
   "outputs": [],
   "source": [
    "def stock_monte_carlo_hrum(start_price_hrum,days,mu_hrum,sigma_hrum):\n",
    "    price = np.zeros(days)\n",
    "    price[0] = start_price_hrum\n",
    "    drift = np.zeros(days)\n",
    "    shock = np.zeros(days)\n",
    "    \n",
    "    for x in range(1,days):\n",
    "        drift[x] = mu_hrum * dt\n",
    "        shock[x] = np.random.normal(loc=mu_hrum*dt, scale=sigma_hrum * np.sqrt(dt))\n",
    "        price[x] = price[x-1] + (price[x-1] * (drift[x] + shock[x]))\n",
    "    return price"
   ]
  },
  {
   "cell_type": "code",
   "execution_count": null,
   "id": "b1469e4d",
   "metadata": {},
   "outputs": [],
   "source": [
    "start_price_hrum = 2070\n",
    "\n",
    "for x in range(1000):\n",
    "    plt.plot(stock_monte_carlo_hrum(start_price_hrum,days,mu_hrum,sigma_hrum))\n",
    "plt.xlabel('Days')\n",
    "plt.ylabel('Price')\n",
    "plt.title('Monte Carlo Method for HRUM')"
   ]
  },
  {
   "cell_type": "code",
   "execution_count": null,
   "id": "2a9923cc",
   "metadata": {},
   "outputs": [],
   "source": [
    "simulations_hrum = np.zeros(runs)\n",
    "\n",
    "for x in range(runs):\n",
    "    simulations_hrum[x] = stock_monte_carlo_hrum(start_price_hrum,days,mu_hrum,sigma_hrum)[days - 1]"
   ]
  },
  {
   "cell_type": "code",
   "execution_count": null,
   "id": "07a73bcd",
   "metadata": {},
   "outputs": [],
   "source": [
    "q_hrum = np.percentile(simulations_hrum,0.01)\n",
    "\n",
    "plt.hist(simulations_hrum,bins=100)\n",
    "\n",
    "plt.figtext(0.6,0.8,s=\"Start Price: Rp.%.2f\" %start_price_hrum)\n",
    "plt.figtext(0.6,0.7,s=\"Mean Final Price: Rp.%.2f\" %simulations_hrum.mean())\n",
    "plt.figtext(0.6,0.6,s=\"VaR (0.99): Rp.%.2f\" %(start_price_hrum - q_hrum))\n",
    "plt.figtext(0.15,0.6,s=\"q(0.99): Rp.%.2f\" %q_hrum)\n",
    "plt.axvline(x=q_hrum,linewidth=4,color='r')\n",
    "plt.title(\"Final price distribution for HRUM Stock after %s days\" %days, weight='bold')"
   ]
  },
  {
   "cell_type": "code",
   "execution_count": null,
   "id": "59f24505",
   "metadata": {},
   "outputs": [],
   "source": [
    "df_stock"
   ]
  },
  {
   "cell_type": "code",
   "execution_count": null,
   "id": "0c6c61e3",
   "metadata": {},
   "outputs": [],
   "source": [
    "mu_bbri = pect.mean()['BBRI.JK']\n",
    "sigma_bbri = pect.std()['BBRI.JK']"
   ]
  },
  {
   "cell_type": "code",
   "execution_count": null,
   "id": "3a2301e9",
   "metadata": {},
   "outputs": [],
   "source": [
    "def stock_monte_carlo_bbri(start_price_bbri,days,mu_bbri,sigma_bbri):\n",
    "    price = np.zeros(days)\n",
    "    price[0] = start_price_bbri\n",
    "    drift = np.zeros(days)\n",
    "    shock = np.zeros(days)\n",
    "    \n",
    "    for x in range(1,days):\n",
    "        drift[x] = mu_bbri * dt\n",
    "        shock[x] = np.random.normal(loc=mu_bbri*dt, scale=sigma_bbri * np.sqrt(dt))\n",
    "        price[x] = price[x-1] + (price[x-1] * (drift[x] + shock[x]))\n",
    "    return price"
   ]
  },
  {
   "cell_type": "code",
   "execution_count": null,
   "id": "b21359a1",
   "metadata": {},
   "outputs": [],
   "source": [
    "start_price_bbri = 5250\n",
    "\n",
    "for x in range(1000):\n",
    "    plt.plot(stock_monte_carlo_bbri(start_price_bbri,days,mu_bbri,sigma_bbri))\n",
    "plt.xlabel('Days')\n",
    "plt.ylabel('Price')\n",
    "plt.title('Monte Carlo Method for BBRI')"
   ]
  },
  {
   "cell_type": "code",
   "execution_count": null,
   "id": "db64aea1",
   "metadata": {},
   "outputs": [],
   "source": [
    "simulations_bbri = np.zeros(runs)\n",
    "\n",
    "for x in range(runs):\n",
    "    simulations_bbri[x] = stock_monte_carlo_bbri(start_price_bbri,days,mu_bbri,sigma_bbri)[days - 1]"
   ]
  },
  {
   "cell_type": "code",
   "execution_count": null,
   "id": "f857c1ef",
   "metadata": {},
   "outputs": [],
   "source": [
    "q_bbri = np.percentile(simulations_bbri,1)\n",
    "\n",
    "plt.hist(simulations_bbri,bins=100)\n",
    "\n",
    "plt.figtext(0.6,0.8,s=\"Start Price: Rp.%.2f\" %start_price_bbri)\n",
    "plt.figtext(0.6,0.7,s=\"Mean Final Price: Rp.%.2f\" %simulations_bbri.mean())\n",
    "plt.figtext(0.6,0.6,s=\"VaR (0.99): Rp.%.2f\" %(start_price_bbri - q_bbri))\n",
    "plt.figtext(0.15,0.6,s=\"q(0.99): Rp.%.2f\" %q_bbri)\n",
    "plt.axvline(x=q_bbri,linewidth=4,color='r')\n",
    "plt.title(\"Final price distribution for BBRI Stock after %s days\" %days, weight='bold')"
   ]
  },
  {
   "cell_type": "code",
   "execution_count": null,
   "id": "4fdea866",
   "metadata": {},
   "outputs": [],
   "source": [
    "mu_emtk = pect.mean()['EMTK.JK']\n",
    "sigma_emtk = pect.std()['EMTK.JK']"
   ]
  },
  {
   "cell_type": "code",
   "execution_count": null,
   "id": "5ac800e3",
   "metadata": {},
   "outputs": [],
   "source": [
    "def stock_monte_carlo_emtk(start_price_emtk,days,mu_emtk,sigma_emtk):\n",
    "    price = np.zeros(days)\n",
    "    price[0] = start_price_emtk\n",
    "    drift = np.zeros(days)\n",
    "    shock = np.zeros(days)\n",
    "    \n",
    "    for x in range(1,days):\n",
    "        drift[x] = mu_emtk * dt\n",
    "        shock[x] = np.random.normal(loc=mu_emtk*dt, scale=sigma_emtk * np.sqrt(dt))\n",
    "        price[x] = price[x-1] + (price[x-1] * (drift[x] + shock[x]))\n",
    "    return price"
   ]
  },
  {
   "cell_type": "code",
   "execution_count": null,
   "id": "13a340d8",
   "metadata": {},
   "outputs": [],
   "source": [
    "start_price_emtk = 655\n",
    "\n",
    "for x in range(1000):\n",
    "    plt.plot(stock_monte_carlo_emtk(start_price_emtk,days,mu_emtk,sigma_emtk))\n",
    "plt.xlabel('Days')\n",
    "plt.ylabel('Price')\n",
    "plt.title('Monte Carlo Method for EMTK')"
   ]
  },
  {
   "cell_type": "code",
   "execution_count": null,
   "id": "d525084d",
   "metadata": {},
   "outputs": [],
   "source": [
    "simulations_emtk = np.zeros(runs)\n",
    "\n",
    "for x in range(runs):\n",
    "    simulations_emtk[x] = stock_monte_carlo_emtk(start_price_emtk,days,mu_emtk,sigma_emtk)[days - 1]"
   ]
  },
  {
   "cell_type": "code",
   "execution_count": null,
   "id": "c34be703",
   "metadata": {},
   "outputs": [],
   "source": [
    "q_emtk = np.percentile(simulations_emtk,1)\n",
    "\n",
    "plt.hist(simulations_emtk,bins=100)\n",
    "\n",
    "plt.figtext(0.6,0.8,s=\"Start Price: Rp.%.2f\" %start_price_emtk)\n",
    "plt.figtext(0.6,0.7,s=\"Mean Final Price: Rp.%.2f\" %simulations_emtk.mean())\n",
    "plt.figtext(0.6,0.6,s=\"VaR (0.99): Rp.%.2f\" %(start_price_emtk - q_emtk))\n",
    "plt.figtext(0.15,0.6,s=\"q(0.99): Rp.%.2f\" %q_emtk)\n",
    "plt.axvline(x=q_emtk,linewidth=4,color='r')\n",
    "plt.title(\"Final price distribution for BBRI Stock after %s days\" %days, weight='bold')"
   ]
  },
  {
   "cell_type": "code",
   "execution_count": null,
   "id": "1aec5f81",
   "metadata": {},
   "outputs": [],
   "source": [
    "df_stock.head()"
   ]
  },
  {
   "cell_type": "code",
   "execution_count": null,
   "id": "ca52ed92",
   "metadata": {},
   "outputs": [],
   "source": [
    "df_stock[[('Close','ASSA.JK'),('Open','BBRI.JK')]]"
   ]
  },
  {
   "cell_type": "code",
   "execution_count": null,
   "id": "55781f60",
   "metadata": {},
   "outputs": [],
   "source": [
    "data = {'A': [1, 2, 3],\n",
    "        'B': [4, 5, 6],\n",
    "        'C': [7, 8, 9]}\n",
    "df = pd.DataFrame(data)\n",
    "df.columns = [['Group1', 'Group1', 'Group2'], ['Column1', 'Column2', 'Column3']]"
   ]
  },
  {
   "cell_type": "code",
   "execution_count": null,
   "id": "fb75b62b",
   "metadata": {},
   "outputs": [],
   "source": [
    "df"
   ]
  },
  {
   "cell_type": "code",
   "execution_count": null,
   "id": "6b325408",
   "metadata": {},
   "outputs": [],
   "source": [
    "selected_column = df['Group1', 'Column2']\n",
    "selected_column"
   ]
  },
  {
   "cell_type": "code",
   "execution_count": null,
   "id": "58a59979",
   "metadata": {},
   "outputs": [],
   "source": []
  }
 ],
 "metadata": {
  "kernelspec": {
   "display_name": "Python 3 (ipykernel)",
   "language": "python",
   "name": "python3"
  },
  "language_info": {
   "codemirror_mode": {
    "name": "ipython",
    "version": 3
   },
   "file_extension": ".py",
   "mimetype": "text/x-python",
   "name": "python",
   "nbconvert_exporter": "python",
   "pygments_lexer": "ipython3",
   "version": "3.10.9"
  }
 },
 "nbformat": 4,
 "nbformat_minor": 5
}

{
 "cells": [
  {
   "cell_type": "code",
   "execution_count": 1,
   "id": "d4d39aca",
   "metadata": {},
   "outputs": [],
   "source": [
    "from pyspark import SparkContext, SparkConf\n",
    "from pyspark.sql import SparkSession, SQLContext\n",
    "from pyspark.sql.functions import *\n",
    "import os\n",
    "import sys "
   ]
  },
  {
   "cell_type": "code",
   "execution_count": 2,
   "id": "b19072e6",
   "metadata": {},
   "outputs": [],
   "source": [
    "os.environ[\"JAVA_HOME\"] = \"C:\\Program Files\\Java\\jdk-18.0.2.1\""
   ]
  },
  {
   "cell_type": "code",
   "execution_count": 3,
   "id": "576428ea",
   "metadata": {},
   "outputs": [],
   "source": [
    "conf = SparkConf() \\\n",
    "    .setAppName(\"ETLPipeline\") \\\n",
    "    .setMaster(\"local\") \\\n",
    "    .set(\"spark.driver.extraClassPath\",\"C:/pyspark/*\")"
   ]
  },
  {
   "cell_type": "code",
   "execution_count": 4,
   "id": "d49efe88",
   "metadata": {},
   "outputs": [],
   "source": [
    "sc = SparkContext.getOrCreate(conf=conf)\n",
    "etl = SparkSession(sc)"
   ]
  },
  {
   "cell_type": "code",
   "execution_count": 12,
   "id": "048246db",
   "metadata": {},
   "outputs": [],
   "source": [
    "username_src = \"spark_sql\"\n",
    "username_target = \"postgres\"\n",
    "pass_src = \"Saifullah2398\"\n",
    "pass_target = \"Saifullah2398\"\n",
    "server_src = \"DESKTOP-PJRE6QD\\SQLEXPRESS\"\n",
    "server_target = \"localhost\"\n",
    "src_db = \"dimasdb\"\n",
    "target_db = \"postgres\"\n",
    "src_driver = \"com.microsoft.sqlserver.jdbc.SQLServerDriver\"\n",
    "target_driver = \"org.postgresql.Driver\"\n",
    "src_url = f\"jdbc:sqlserver://{server_src}:1433;databaseName={src_db};user={username_src};password={pass_src};encrypt=true;trustServerCertificate=true\"\n",
    "target_url = f\"jdbc:postgresql://{server_target}:5432/{target_db}?user={username_target}&password={pass_target};encrypt=true;trustServerCertificate=true\""
   ]
  },
  {
   "cell_type": "code",
   "execution_count": 13,
   "id": "f2c29b16",
   "metadata": {},
   "outputs": [],
   "source": [
    "sql = \"\"\" SELECT t.name as table_name FROM sys.tables t\n",
    "        WHERE t.name IN ( 'contract_loan','contract_loan_ledger' )\"\"\""
   ]
  },
  {
   "cell_type": "code",
   "execution_count": 14,
   "id": "f6a4b093",
   "metadata": {},
   "outputs": [
    {
     "name": "stdout",
     "output_type": "stream",
     "text": [
      "+--------------------+\n",
      "|          table_name|\n",
      "+--------------------+\n",
      "|       contract_loan|\n",
      "|contract_loan_ledger|\n",
      "+--------------------+\n",
      "\n"
     ]
    }
   ],
   "source": [
    "dfs = etl.read. \\\n",
    "      format(\"jdbc\"). \\\n",
    "      options(driver=src_driver,user=username_src,url=src_url,query=sql). \\\n",
    "      load()\n",
    "dfs.show()"
   ]
  },
  {
   "cell_type": "code",
   "execution_count": 15,
   "id": "1bd5d03d",
   "metadata": {},
   "outputs": [
    {
     "name": "stdout",
     "output_type": "stream",
     "text": [
      "contract_loan\n",
      "contract_loan_ledger\n"
     ]
    }
   ],
   "source": [
    "data_collect = dfs.collect()\n",
    "for row in data_collect:\n",
    "    print(row['table_name'])"
   ]
  },
  {
   "cell_type": "code",
   "execution_count": 16,
   "id": "77702311",
   "metadata": {},
   "outputs": [],
   "source": [
    "def load(df, tbl):\n",
    "    try:\n",
    "        rows_imported = 0\n",
    "        print(f\"importing rows {rows_imported} to {rows_imported + df.count()} for table {tbl}\")\n",
    "        df.write.mode('overwrite') \\\n",
    "        .format('jdbc') \\\n",
    "        .option('url', target_url) \\\n",
    "        .option('user', username_target) \\\n",
    "        .option('password', pass_target) \\\n",
    "        .option('driver', target_driver) \\\n",
    "        .option('dbtable', 'src_' + tbl) \\\n",
    "        .save()\n",
    "        print('Data imported Successful')\n",
    "        rows_imported += df.count()\n",
    "    except Exception as e:\n",
    "        print(\"Data load error : \" + str(e))"
   ]
  },
  {
   "cell_type": "code",
   "execution_count": 17,
   "id": "f392ad73",
   "metadata": {},
   "outputs": [],
   "source": [
    "def extract():\n",
    "    try:\n",
    "        dfs = etl.read. \\\n",
    "            format('jdbc'). \\\n",
    "            options(driver=src_driver,user=username_src,url=src_url,query=sql). \\\n",
    "            load()\n",
    "        data_collect = dfs.collect()\n",
    "        for row in data_collect:\n",
    "            print(row['table_name'])\n",
    "            tbl_name = row['table_name']\n",
    "            df = etl.read \\\n",
    "            .format(\"jdbc\") \\\n",
    "            .option('driver', src_driver) \\\n",
    "            .option('user', username_src) \\\n",
    "            .option('password', pass_src) \\\n",
    "            .option('url', src_url) \\\n",
    "            .option('dbtable', f\"dbo.{tbl_name}\") \\\n",
    "            .load()\n",
    "            load(df,tbl_name)\n",
    "            print('Data loaded Succesfully')\n",
    "    except Exception as e:\n",
    "        print('Data extract error : ' + str(e))"
   ]
  },
  {
   "cell_type": "code",
   "execution_count": 18,
   "id": "29f69e89",
   "metadata": {},
   "outputs": [
    {
     "name": "stdout",
     "output_type": "stream",
     "text": [
      "contract_loan\n",
      "importing rows 0 to 100 for table contract_loan\n",
      "Data imported Successful\n",
      "Data loaded Succesfully\n",
      "contract_loan_ledger\n",
      "importing rows 0 to 1097 for table contract_loan_ledger\n",
      "Data imported Successful\n",
      "Data loaded Succesfully\n"
     ]
    }
   ],
   "source": [
    "extract()"
   ]
  },
  {
   "cell_type": "code",
   "execution_count": null,
   "id": "4cc08177",
   "metadata": {},
   "outputs": [],
   "source": []
  }
 ],
 "metadata": {
  "kernelspec": {
   "display_name": "Python 3 (ipykernel)",
   "language": "python",
   "name": "python3"
  },
  "language_info": {
   "codemirror_mode": {
    "name": "ipython",
    "version": 3
   },
   "file_extension": ".py",
   "mimetype": "text/x-python",
   "name": "python",
   "nbconvert_exporter": "python",
   "pygments_lexer": "ipython3",
   "version": "3.10.9"
  }
 },
 "nbformat": 4,
 "nbformat_minor": 5
}

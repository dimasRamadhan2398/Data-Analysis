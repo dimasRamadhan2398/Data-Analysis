{
 "cells": [
  {
   "cell_type": "code",
   "execution_count": 68,
   "id": "d2319009",
   "metadata": {},
   "outputs": [],
   "source": [
    "from pyspark import SparkContext, SparkConf\n",
    "from pyspark.sql import SparkSession, SQLContext\n",
    "from pyspark.sql import functions as F\n",
    "from pyspark.sql.functions import col, when, lit\n",
    "import os"
   ]
  },
  {
   "cell_type": "code",
   "execution_count": 2,
   "id": "d2a8dfd1",
   "metadata": {},
   "outputs": [],
   "source": [
    "os.environ[\"JAVA_HOME\"] = \"C:\\Program Files\\Java\\jdk-18.0.2.1\""
   ]
  },
  {
   "cell_type": "code",
   "execution_count": 3,
   "id": "691f4ccf",
   "metadata": {},
   "outputs": [],
   "source": [
    "con = SparkConf().setAppName(\"Example\").setMaster(\"local[*]\").set(\"spark.driver.extraClassPath\",\"C:/pyspark/*\") \\\n",
    "        .set(\"spark.executor.extraClassPath\",\"C:/pyspark/*\")"
   ]
  },
  {
   "cell_type": "code",
   "execution_count": 4,
   "id": "ddaec35d",
   "metadata": {},
   "outputs": [],
   "source": [
    "sc = SparkContext.getOrCreate(conf=con)\n",
    "spark = SparkSession(sc)"
   ]
  },
  {
   "cell_type": "code",
   "execution_count": 5,
   "id": "1a05e1a9",
   "metadata": {},
   "outputs": [
    {
     "data": {
      "text/html": [
       "\n",
       "            <div>\n",
       "                <p><b>SparkSession - in-memory</b></p>\n",
       "                \n",
       "        <div>\n",
       "            <p><b>SparkContext</b></p>\n",
       "\n",
       "            <p><a href=\"http://host.docker.internal:4040\">Spark UI</a></p>\n",
       "\n",
       "            <dl>\n",
       "              <dt>Version</dt>\n",
       "                <dd><code>v3.4.1</code></dd>\n",
       "              <dt>Master</dt>\n",
       "                <dd><code>local[*]</code></dd>\n",
       "              <dt>AppName</dt>\n",
       "                <dd><code>Example</code></dd>\n",
       "            </dl>\n",
       "        </div>\n",
       "        \n",
       "            </div>\n",
       "        "
      ],
      "text/plain": [
       "<pyspark.sql.session.SparkSession at 0x18768384d60>"
      ]
     },
     "execution_count": 5,
     "metadata": {},
     "output_type": "execute_result"
    }
   ],
   "source": [
    "spark"
   ]
  },
  {
   "cell_type": "code",
   "execution_count": 6,
   "id": "1d257778",
   "metadata": {},
   "outputs": [],
   "source": [
    "database = \"dimasdb\"\n",
    "table = \"contract_loan_ledger\"\n",
    "password = \"Saifullah2398\"\n",
    "user = \"spark_sql\"\n",
    "schema = \"dbo\"\n",
    "jdbc_url = f\"jdbc:sqlserver://localhost:1433;database={database};encrypt=true;trustServerCertificate=true\""
   ]
  },
  {
   "cell_type": "code",
   "execution_count": 7,
   "id": "f540971a",
   "metadata": {},
   "outputs": [],
   "source": [
    "df_loan = spark.read \\\n",
    "        .format('jdbc') \\\n",
    "        .option('url', jdbc_url) \\\n",
    "        .option('dbtable', f\"{schema}.{table}\") \\\n",
    "        .option('user', user) \\\n",
    "        .option('password', password) \\\n",
    "        .option('driver', \"com.microsoft.sqlserver.jdbc.SQLServerDriver\") \\\n",
    "        .load()"
   ]
  },
  {
   "cell_type": "code",
   "execution_count": 8,
   "id": "805b14e9",
   "metadata": {},
   "outputs": [
    {
     "name": "stdout",
     "output_type": "stream",
     "text": [
      "+---------+-----------+--------------------+------+--------------------+-------------+---------------+---------+--------------------+-------------------+\n",
      "|ledger_id|contract_id|          created_at|period|         ledger_type|ledger_status|initial_balance|  balance|            due_date|      paid_off_date|\n",
      "+---------+-----------+--------------------+------+--------------------+-------------+---------------+---------+--------------------+-------------------+\n",
      "|  00q7jho|      wrv68|2020-07-20 09:33:...|     2|           PRINCIPAL|         PAID|       270000.0|      0.0|2020-09-20 16:59:...|2020-09-25 12:21:53|\n",
      "|  00shmdx|      7ozx8|2020-09-23 17:08:...|     2|            LATE_FEE|       UNPAID|       315000.0| 315000.0|2020-09-20 16:59:...|               null|\n",
      "|  02c17sg|      jo3e8|2020-07-20 09:41:...|     2|            INTEREST|         PAID|            0.0|      0.0|2020-09-20 16:59:...|2020-09-26 10:44:47|\n",
      "|  02koly8|      8kms6|2020-07-20 04:05:...|     1|           PRINCIPAL|         PAID|       628500.0|      0.0|2020-08-20 16:59:...|2020-08-25 05:15:23|\n",
      "|  04118sr|      zbqfl|2020-07-20 04:41:...|     5|            INTEREST|       UNPAID|            0.0|      0.0|2020-12-20 16:59:...|               null|\n",
      "|  05m6tmf|      bmmv1|2020-07-20 05:22:...|     3|           PRINCIPAL|         PAID|    1.4014296E7|      0.0| 2020-10-20 16:59:59|2020-10-04 14:20:05|\n",
      "|  09d9bex|      a3182|2020-07-20 01:40:...|     5|           PRINCIPAL|       UNPAID|       261000.0| 261000.0|2020-12-20 16:59:...|               null|\n",
      "|  0c91ud5|      5op5o|2020-07-20 06:14:...|     6|            INTEREST|       UNPAID|            0.0|      0.0|2021-01-20 16:59:...|               null|\n",
      "|  0ctzbu9|      qi6ha|2020-07-20 10:08:...|     1|            INTEREST|       UNPAID|            0.0|      0.0|2020-08-20 16:59:...|               null|\n",
      "|  0dk6f4m|      7n9v2|2020-09-23 17:08:...|     2|            LATE_FEE|       UNPAID|       630000.0| 630000.0|2020-09-20 16:59:...|               null|\n",
      "|  0gtmp7w|      46vj4|2020-07-20 11:47:...|     3|            INTEREST|       UNPAID|      1120704.0|1120704.0| 2020-10-20 16:59:59|               null|\n",
      "|  0hgpn4w|      a3182|2020-07-20 01:40:...|     1|           PRINCIPAL|         PAID|       261000.0|      0.0|2020-08-20 16:59:...|2020-08-20 04:29:47|\n",
      "|  0j2dkm3|      puqw9|2020-09-28 03:11:...|     1|RESTRUCTURE_DOWN_...|         PAID|            0.0|      0.0|                null|               null|\n",
      "|  0jk7r35|      ts3ry|2020-07-20 08:37:...|     4|            INTEREST|       UNPAID|            0.0|      0.0|2020-11-20 16:59:...|               null|\n",
      "|  0jkma0b|      dqrk5|2020-08-23 17:09:...|     1|            LATE_FEE|       UNPAID|       309000.0| 309000.0|2020-08-20 16:59:...|               null|\n",
      "|  0lanxn0|      wrv68|2020-07-20 09:33:...|     4|           PRINCIPAL|       UNPAID|       270000.0| 270000.0|2020-11-20 16:59:...|               null|\n",
      "|  0mzccbd|      fhua4|2020-07-20 08:06:...|     3|            INTEREST|       UNPAID|            0.0|      0.0|2020-10-20 16:59:...|               null|\n",
      "|  0nfbm1u|      nqglk|2020-08-23 17:09:...|     1|            LATE_FEE|       UNPAID|       247000.0| 247000.0|2020-08-20 16:59:...|               null|\n",
      "|  0no7ffz|      lfex0|2020-07-20 05:15:...|     3|           PRINCIPAL|       UNPAID|      1006020.0|1006020.0| 2020-10-20 16:59:59|               null|\n",
      "|  0o3npxh|      ug3zy|2020-07-20 06:20:...|     5|           PRINCIPAL|       UNPAID|       646000.0| 646000.0|2020-12-20 16:59:...|               null|\n",
      "+---------+-----------+--------------------+------+--------------------+-------------+---------------+---------+--------------------+-------------------+\n",
      "only showing top 20 rows\n",
      "\n"
     ]
    }
   ],
   "source": [
    "df_loan.show()"
   ]
  },
  {
   "cell_type": "code",
   "execution_count": 9,
   "id": "3fc96f2b",
   "metadata": {},
   "outputs": [],
   "source": [
    "df_loan = df_loan.withColumn('created_at', col('created_at').cast('timestamp'))\n",
    "df_loan = df_loan.withColumn('due_date', col('due_date').cast('timestamp'))\n",
    "df_loan = df_loan.withColumn('paid_off_date', col('paid_off_date').cast('timestamp'))"
   ]
  },
  {
   "cell_type": "code",
   "execution_count": 10,
   "id": "afff2161",
   "metadata": {},
   "outputs": [
    {
     "name": "stdout",
     "output_type": "stream",
     "text": [
      "+---------+-----------+--------------------+------+-----------+-------------+---------------+--------+--------------------+-------------------+\n",
      "|ledger_id|contract_id|          created_at|period|ledger_type|ledger_status|initial_balance| balance|            due_date|      paid_off_date|\n",
      "+---------+-----------+--------------------+------+-----------+-------------+---------------+--------+--------------------+-------------------+\n",
      "|  00q7jho|      wrv68|2020-07-20 09:33:...|     2|  PRINCIPAL|         PAID|       270000.0|     0.0|2020-09-20 16:59:...|2020-09-25 12:21:53|\n",
      "|  00shmdx|      7ozx8|2020-09-23 17:08:...|     2|   LATE_FEE|       UNPAID|       315000.0|315000.0|2020-09-20 16:59:...|               null|\n",
      "|  02c17sg|      jo3e8|2020-07-20 09:41:...|     2|   INTEREST|         PAID|            0.0|     0.0|2020-09-20 16:59:...|2020-09-26 10:44:47|\n",
      "|  02koly8|      8kms6|2020-07-20 04:05:...|     1|  PRINCIPAL|         PAID|       628500.0|     0.0|2020-08-20 16:59:...|2020-08-25 05:15:23|\n",
      "|  04118sr|      zbqfl|2020-07-20 04:41:...|     5|   INTEREST|       UNPAID|            0.0|     0.0|2020-12-20 16:59:...|               null|\n",
      "|  05m6tmf|      bmmv1|2020-07-20 05:22:...|     3|  PRINCIPAL|         PAID|    1.4014296E7|     0.0| 2020-10-20 16:59:59|2020-10-04 14:20:05|\n",
      "|  09d9bex|      a3182|2020-07-20 01:40:...|     5|  PRINCIPAL|       UNPAID|       261000.0|261000.0|2020-12-20 16:59:...|               null|\n",
      "|  0c91ud5|      5op5o|2020-07-20 06:14:...|     6|   INTEREST|       UNPAID|            0.0|     0.0|2021-01-20 16:59:...|               null|\n",
      "|  0ctzbu9|      qi6ha|2020-07-20 10:08:...|     1|   INTEREST|       UNPAID|            0.0|     0.0|2020-08-20 16:59:...|               null|\n",
      "|  0dk6f4m|      7n9v2|2020-09-23 17:08:...|     2|   LATE_FEE|       UNPAID|       630000.0|630000.0|2020-09-20 16:59:...|               null|\n",
      "+---------+-----------+--------------------+------+-----------+-------------+---------------+--------+--------------------+-------------------+\n",
      "\n"
     ]
    }
   ],
   "source": [
    "df_loan.limit(10).show()"
   ]
  },
  {
   "cell_type": "code",
   "execution_count": 11,
   "id": "714439aa",
   "metadata": {},
   "outputs": [
    {
     "name": "stdout",
     "output_type": "stream",
     "text": [
      "+---------+-----------+--------------------+------+--------------------+------+---------------+---------+--------------------+-------------------+\n",
      "|ledger_id|contract_id|          created_at|period|         ledger_type|status|initial_balance|  balance|            due_date|      paid_off_date|\n",
      "+---------+-----------+--------------------+------+--------------------+------+---------------+---------+--------------------+-------------------+\n",
      "|  00q7jho|      wrv68|2020-07-20 09:33:...|     2|           PRINCIPAL|  PAID|       270000.0|      0.0|2020-09-20 16:59:...|2020-09-25 12:21:53|\n",
      "|  00shmdx|      7ozx8|2020-09-23 17:08:...|     2|            LATE_FEE|UNPAID|       315000.0| 315000.0|2020-09-20 16:59:...|               null|\n",
      "|  02c17sg|      jo3e8|2020-07-20 09:41:...|     2|            INTEREST|  PAID|            0.0|      0.0|2020-09-20 16:59:...|2020-09-26 10:44:47|\n",
      "|  02koly8|      8kms6|2020-07-20 04:05:...|     1|           PRINCIPAL|  PAID|       628500.0|      0.0|2020-08-20 16:59:...|2020-08-25 05:15:23|\n",
      "|  04118sr|      zbqfl|2020-07-20 04:41:...|     5|            INTEREST|UNPAID|            0.0|      0.0|2020-12-20 16:59:...|               null|\n",
      "|  05m6tmf|      bmmv1|2020-07-20 05:22:...|     3|           PRINCIPAL|  PAID|    1.4014296E7|      0.0| 2020-10-20 16:59:59|2020-10-04 14:20:05|\n",
      "|  09d9bex|      a3182|2020-07-20 01:40:...|     5|           PRINCIPAL|UNPAID|       261000.0| 261000.0|2020-12-20 16:59:...|               null|\n",
      "|  0c91ud5|      5op5o|2020-07-20 06:14:...|     6|            INTEREST|UNPAID|            0.0|      0.0|2021-01-20 16:59:...|               null|\n",
      "|  0ctzbu9|      qi6ha|2020-07-20 10:08:...|     1|            INTEREST|UNPAID|            0.0|      0.0|2020-08-20 16:59:...|               null|\n",
      "|  0dk6f4m|      7n9v2|2020-09-23 17:08:...|     2|            LATE_FEE|UNPAID|       630000.0| 630000.0|2020-09-20 16:59:...|               null|\n",
      "|  0gtmp7w|      46vj4|2020-07-20 11:47:...|     3|            INTEREST|UNPAID|      1120704.0|1120704.0| 2020-10-20 16:59:59|               null|\n",
      "|  0hgpn4w|      a3182|2020-07-20 01:40:...|     1|           PRINCIPAL|  PAID|       261000.0|      0.0|2020-08-20 16:59:...|2020-08-20 04:29:47|\n",
      "|  0j2dkm3|      puqw9|2020-09-28 03:11:...|     1|RESTRUCTURE_DOWN_...|  PAID|            0.0|      0.0|                null|               null|\n",
      "|  0jk7r35|      ts3ry|2020-07-20 08:37:...|     4|            INTEREST|UNPAID|            0.0|      0.0|2020-11-20 16:59:...|               null|\n",
      "|  0jkma0b|      dqrk5|2020-08-23 17:09:...|     1|            LATE_FEE|UNPAID|       309000.0| 309000.0|2020-08-20 16:59:...|               null|\n",
      "|  0lanxn0|      wrv68|2020-07-20 09:33:...|     4|           PRINCIPAL|UNPAID|       270000.0| 270000.0|2020-11-20 16:59:...|               null|\n",
      "|  0mzccbd|      fhua4|2020-07-20 08:06:...|     3|            INTEREST|UNPAID|            0.0|      0.0|2020-10-20 16:59:...|               null|\n",
      "|  0nfbm1u|      nqglk|2020-08-23 17:09:...|     1|            LATE_FEE|UNPAID|       247000.0| 247000.0|2020-08-20 16:59:...|               null|\n",
      "|  0no7ffz|      lfex0|2020-07-20 05:15:...|     3|           PRINCIPAL|UNPAID|      1006020.0|1006020.0| 2020-10-20 16:59:59|               null|\n",
      "|  0o3npxh|      ug3zy|2020-07-20 06:20:...|     5|           PRINCIPAL|UNPAID|       646000.0| 646000.0|2020-12-20 16:59:...|               null|\n",
      "+---------+-----------+--------------------+------+--------------------+------+---------------+---------+--------------------+-------------------+\n",
      "only showing top 20 rows\n",
      "\n"
     ]
    }
   ],
   "source": [
    "df_loan = df_loan.withColumnRenamed(\"ledger_status\",\"status\")\n",
    "df_loan.show()"
   ]
  },
  {
   "cell_type": "code",
   "execution_count": 12,
   "id": "b3bdf6f2",
   "metadata": {},
   "outputs": [
    {
     "data": {
      "text/plain": [
       "1097"
      ]
     },
     "execution_count": 12,
     "metadata": {},
     "output_type": "execute_result"
    }
   ],
   "source": [
    "df_loan.count()"
   ]
  },
  {
   "cell_type": "code",
   "execution_count": 13,
   "id": "5de1af74",
   "metadata": {},
   "outputs": [
    {
     "name": "stdout",
     "output_type": "stream",
     "text": [
      "+---------+------+---------------+\n",
      "|ledger_id|status|initial_balance|\n",
      "+---------+------+---------------+\n",
      "|  00q7jho|  PAID|       270000.0|\n",
      "|  00shmdx|UNPAID|       315000.0|\n",
      "|  02c17sg|  PAID|            0.0|\n",
      "|  02koly8|  PAID|       628500.0|\n",
      "|  04118sr|UNPAID|            0.0|\n",
      "|  05m6tmf|  PAID|    1.4014296E7|\n",
      "|  09d9bex|UNPAID|       261000.0|\n",
      "|  0c91ud5|UNPAID|            0.0|\n",
      "|  0ctzbu9|UNPAID|            0.0|\n",
      "|  0dk6f4m|UNPAID|       630000.0|\n",
      "|  0gtmp7w|UNPAID|      1120704.0|\n",
      "|  0hgpn4w|  PAID|       261000.0|\n",
      "|  0j2dkm3|  PAID|            0.0|\n",
      "|  0jk7r35|UNPAID|            0.0|\n",
      "|  0jkma0b|UNPAID|       309000.0|\n",
      "|  0lanxn0|UNPAID|       270000.0|\n",
      "|  0mzccbd|UNPAID|            0.0|\n",
      "|  0nfbm1u|UNPAID|       247000.0|\n",
      "|  0no7ffz|UNPAID|      1006020.0|\n",
      "|  0o3npxh|UNPAID|       646000.0|\n",
      "+---------+------+---------------+\n",
      "only showing top 20 rows\n",
      "\n"
     ]
    }
   ],
   "source": [
    "df_loan_pick = df_loan.select(\"ledger_id\",\"status\",\"initial_balance\")\n",
    "df_loan_pick.show()"
   ]
  },
  {
   "cell_type": "code",
   "execution_count": 14,
   "id": "1ae7e985",
   "metadata": {},
   "outputs": [
    {
     "name": "stdout",
     "output_type": "stream",
     "text": [
      "+---------+------+---------------+\n",
      "|ledger_id|status|initial_balance|\n",
      "+---------+------+---------------+\n",
      "|  16ebwdc|UNPAID|            0.0|\n",
      "|  13v0rf1|UNPAID|            0.0|\n",
      "|  02c17sg|  PAID|            0.0|\n",
      "|  04118sr|UNPAID|            0.0|\n",
      "|  19d012g|UNPAID|            0.0|\n",
      "|  0ctzbu9|UNPAID|            0.0|\n",
      "|  0j2dkm3|  PAID|            0.0|\n",
      "|  2ao81rd|UNPAID|            0.0|\n",
      "|  0jk7r35|UNPAID|            0.0|\n",
      "|  0odmn45|UNPAID|            0.0|\n",
      "|  1irg2c5|UNPAID|            0.0|\n",
      "|  0r1j585|UNPAID|            0.0|\n",
      "|  0u05348|UNPAID|            0.0|\n",
      "|  29nzi5e|UNPAID|            0.0|\n",
      "|  1kwfwnk|UNPAID|            0.0|\n",
      "|  0wp33p2|  PAID|            0.0|\n",
      "|  1kz9mxs|UNPAID|            0.0|\n",
      "|  0zzpzaj|UNPAID|            0.0|\n",
      "|  1opgu92|  PAID|            0.0|\n",
      "|  2gj8kc9|UNPAID|            0.0|\n",
      "+---------+------+---------------+\n",
      "only showing top 20 rows\n",
      "\n"
     ]
    }
   ],
   "source": [
    "df_loan_pick.sort(\"initial_balance\").show()"
   ]
  },
  {
   "cell_type": "code",
   "execution_count": 15,
   "id": "9c6ffd8c",
   "metadata": {},
   "outputs": [
    {
     "name": "stdout",
     "output_type": "stream",
     "text": [
      "+---------+------+---------------+\n",
      "|ledger_id|status|initial_balance|\n",
      "+---------+------+---------------+\n",
      "|  05m6tmf|  PAID|    1.4014296E7|\n",
      "|  2dmkzyd|  PAID|    1.4014296E7|\n",
      "|  bk8a7nu|  PAID|    1.4014296E7|\n",
      "|  j0rpov7|  PAID|    1.4014296E7|\n",
      "|  rxln7g5|  PAID|    1.4014296E7|\n",
      "|  sbxobdm|  PAID|    1.4014296E7|\n",
      "|  swttytr|UNPAID|    1.4014296E7|\n",
      "|  wi56t3v|  PAID|    1.4014296E7|\n",
      "|  7hv1zns|UNPAID|      5033016.0|\n",
      "|  srhw0hf|  PAID|      5033016.0|\n",
      "|  b9r6zt1|UNPAID|      2067500.0|\n",
      "|  h6a2ebp|UNPAID|      2067500.0|\n",
      "|  8mq957a|UNPAID|      1560500.0|\n",
      "|  8x68cai|UNPAID|      1560500.0|\n",
      "|  9haj0eu|UNPAID|      1560500.0|\n",
      "|  9me776e|UNPAID|      1560500.0|\n",
      "|  ju7bxoh|UNPAID|      1560500.0|\n",
      "|  zt2auvm|UNPAID|      1560500.0|\n",
      "|  907f6ps|  PAID|      1297620.0|\n",
      "|  hcac056|  PAID|      1297620.0|\n",
      "+---------+------+---------------+\n",
      "only showing top 20 rows\n",
      "\n"
     ]
    }
   ],
   "source": [
    "df_loan_pick.sort(F.desc(\"initial_balance\")).show()"
   ]
  },
  {
   "cell_type": "code",
   "execution_count": 16,
   "id": "7b86212d",
   "metadata": {},
   "outputs": [
    {
     "name": "stdout",
     "output_type": "stream",
     "text": [
      "root\n",
      " |-- ledger_id: string (nullable = true)\n",
      " |-- contract_id: string (nullable = true)\n",
      " |-- created_at: timestamp (nullable = true)\n",
      " |-- period: integer (nullable = true)\n",
      " |-- ledger_type: string (nullable = true)\n",
      " |-- status: string (nullable = true)\n",
      " |-- initial_balance: double (nullable = true)\n",
      " |-- balance: double (nullable = true)\n",
      " |-- due_date: timestamp (nullable = true)\n",
      " |-- paid_off_date: timestamp (nullable = true)\n",
      "\n"
     ]
    }
   ],
   "source": [
    "df_loan.printSchema()"
   ]
  },
  {
   "cell_type": "code",
   "execution_count": 17,
   "id": "5d4013ec",
   "metadata": {},
   "outputs": [
    {
     "name": "stdout",
     "output_type": "stream",
     "text": [
      "root\n",
      " |-- ledger_id: string (nullable = true)\n",
      " |-- status: string (nullable = true)\n",
      " |-- initial_balance: double (nullable = true)\n",
      "\n"
     ]
    }
   ],
   "source": [
    "df_loan_pick.printSchema()"
   ]
  },
  {
   "cell_type": "code",
   "execution_count": 18,
   "id": "a7db8b84",
   "metadata": {},
   "outputs": [
    {
     "name": "stdout",
     "output_type": "stream",
     "text": [
      "+------+---------------+\n",
      "|status|initial_balance|\n",
      "+------+---------------+\n",
      "|  PAID|       270000.0|\n",
      "|  PAID|            0.0|\n",
      "|  PAID|       628500.0|\n",
      "|  PAID|    1.4014296E7|\n",
      "|  PAID|       261000.0|\n",
      "|  PAID|            0.0|\n",
      "|  PAID|       369000.0|\n",
      "|  PAID|            0.0|\n",
      "|  PAID|       383000.0|\n",
      "|  PAID|        80480.0|\n",
      "|  PAID|       403500.0|\n",
      "|  PAID|       224000.0|\n",
      "|  PAID|            0.0|\n",
      "|  PAID|            0.0|\n",
      "|  PAID|       224000.0|\n",
      "|  PAID|       215880.0|\n",
      "|  PAID|       351500.0|\n",
      "|  PAID|       351500.0|\n",
      "|  PAID|    1.4014296E7|\n",
      "|  PAID|       547500.0|\n",
      "+------+---------------+\n",
      "only showing top 20 rows\n",
      "\n"
     ]
    }
   ],
   "source": [
    "df_loan.select(\"status\",\"initial_balance\").filter(\"status = 'PAID' \").show()"
   ]
  },
  {
   "cell_type": "code",
   "execution_count": 19,
   "id": "2c4a9339",
   "metadata": {},
   "outputs": [
    {
     "name": "stdout",
     "output_type": "stream",
     "text": [
      "+------+---------------+\n",
      "|status|initial_balance|\n",
      "+------+---------------+\n",
      "|  PAID|       270000.0|\n",
      "|  PAID|            0.0|\n",
      "|  PAID|       628500.0|\n",
      "|  PAID|    1.4014296E7|\n",
      "|  PAID|       261000.0|\n",
      "|  PAID|            0.0|\n",
      "|  PAID|       369000.0|\n",
      "|  PAID|            0.0|\n",
      "|  PAID|       383000.0|\n",
      "|  PAID|        80480.0|\n",
      "|  PAID|       403500.0|\n",
      "|  PAID|       224000.0|\n",
      "|  PAID|            0.0|\n",
      "|  PAID|            0.0|\n",
      "|  PAID|       224000.0|\n",
      "|  PAID|       215880.0|\n",
      "|  PAID|       351500.0|\n",
      "|  PAID|       351500.0|\n",
      "|  PAID|    1.4014296E7|\n",
      "|  PAID|       547500.0|\n",
      "+------+---------------+\n",
      "only showing top 20 rows\n",
      "\n"
     ]
    }
   ],
   "source": [
    "df_loan.select(df_loan.status, df_loan.initial_balance).filter(\"status = 'PAID' \").show()"
   ]
  },
  {
   "cell_type": "code",
   "execution_count": 20,
   "id": "e7c15f4c",
   "metadata": {},
   "outputs": [
    {
     "name": "stdout",
     "output_type": "stream",
     "text": [
      "+---------+------+\n",
      "|ledger_id|status|\n",
      "+---------+------+\n",
      "|  356sdh9|UNPAID|\n",
      "|  562yelb|UNPAID|\n",
      "|  56essfc|UNPAID|\n",
      "|  6d0q566|UNPAID|\n",
      "|  8ezk56t|UNPAID|\n",
      "|  hcac056|  PAID|\n",
      "|  mo566zw|UNPAID|\n",
      "|  wi56t3v|  PAID|\n",
      "+---------+------+\n",
      "\n"
     ]
    }
   ],
   "source": [
    "df_loan.select(\"ledger_id\", \"status\").filter(\"ledger_id like '%56%' \").show()"
   ]
  },
  {
   "cell_type": "code",
   "execution_count": 21,
   "id": "206cdbfe",
   "metadata": {},
   "outputs": [
    {
     "name": "stdout",
     "output_type": "stream",
     "text": [
      "+---------+------+-----------+--------------------+\n",
      "|ledger_id|period|ledger_type|            due_date|\n",
      "+---------+------+-----------+--------------------+\n",
      "|  hcac056|     2|  PRINCIPAL| 2020-09-20 16:59:59|\n",
      "|  mo566zw|     2|   INTEREST|2020-09-20 16:59:...|\n",
      "+---------+------+-----------+--------------------+\n",
      "\n"
     ]
    }
   ],
   "source": [
    "df_loan.select(\"ledger_id\",\"period\",\"ledger_type\",\"due_date\").filter((df_loan.ledger_id.like(\"%56%\")) & (df_loan.period == 2)).show()"
   ]
  },
  {
   "cell_type": "code",
   "execution_count": 22,
   "id": "1016e9b1",
   "metadata": {},
   "outputs": [
    {
     "name": "stdout",
     "output_type": "stream",
     "text": [
      "+--------+\n",
      "|count(1)|\n",
      "+--------+\n",
      "|    1097|\n",
      "+--------+\n",
      "\n"
     ]
    }
   ],
   "source": [
    "df_loan.createOrReplaceTempView(\"ledger\")\n",
    "spark.sql(\"SELECT COUNT(*) FROM ledger\").show()"
   ]
  },
  {
   "cell_type": "code",
   "execution_count": 27,
   "id": "ea81f0c2",
   "metadata": {},
   "outputs": [
    {
     "name": "stdout",
     "output_type": "stream",
     "text": [
      "+---------+------+---------+\n",
      "|ledger_id|status|  balance|\n",
      "+---------+------+---------+\n",
      "|  00shmdx|UNPAID| 315000.0|\n",
      "|  09d9bex|UNPAID| 261000.0|\n",
      "|  0dk6f4m|UNPAID| 630000.0|\n",
      "|  0gtmp7w|UNPAID|1120704.0|\n",
      "|  0jkma0b|UNPAID| 309000.0|\n",
      "|  0lanxn0|UNPAID| 270000.0|\n",
      "|  0nfbm1u|UNPAID| 247000.0|\n",
      "|  0no7ffz|UNPAID|1006020.0|\n",
      "|  0o3npxh|UNPAID| 646000.0|\n",
      "|  0papqv6|UNPAID| 261000.0|\n",
      "|  0rebryg|UNPAID| 315000.0|\n",
      "|  0sc5go8|UNPAID| 155000.0|\n",
      "|  0sdw7ft|UNPAID| 547500.0|\n",
      "|  0u2c8dn|UNPAID| 379000.0|\n",
      "|  0u6ide9|UNPAID| 959500.0|\n",
      "|  0vcudec|UNPAID| 324000.0|\n",
      "|  0wmrszv|UNPAID| 475000.0|\n",
      "|  0zsyz6v|UNPAID| 116000.0|\n",
      "|  14dh2e5|UNPAID| 646000.0|\n",
      "|  15b4qu0|UNPAID| 224000.0|\n",
      "+---------+------+---------+\n",
      "only showing top 20 rows\n",
      "\n"
     ]
    }
   ],
   "source": [
    "spark.sql(\"SELECT ledger_id, status, balance FROM ledger WHERE balance > 0 \").show()"
   ]
  },
  {
   "cell_type": "code",
   "execution_count": 28,
   "id": "12eb7f19",
   "metadata": {},
   "outputs": [],
   "source": [
    "df_contract = spark.read \\\n",
    "            .format(\"jdbc\") \\\n",
    "            .option('url', jdbc_url) \\\n",
    "            .option('user', user) \\\n",
    "            .option('password', password) \\\n",
    "            .option('driver', 'com.microsoft.sqlserver.jdbc.SQLServerDriver') \\\n",
    "            .option('dbtable', f\"dbo.contract_loan\") \\\n",
    "            .load()"
   ]
  },
  {
   "cell_type": "code",
   "execution_count": 29,
   "id": "cbc69486",
   "metadata": {},
   "outputs": [
    {
     "data": {
      "text/plain": [
       "DataFrame[contract_id: string, created_at: timestamp, contract_status: string, tenure: int, loan_amount: int, provision: double, interest: double, principal: double]"
      ]
     },
     "execution_count": 29,
     "metadata": {},
     "output_type": "execute_result"
    }
   ],
   "source": [
    "df_contract.createOrReplaceTempView(\"contract\")\n",
    "df_contract.cache()"
   ]
  },
  {
   "cell_type": "code",
   "execution_count": 40,
   "id": "91ba1db3",
   "metadata": {},
   "outputs": [
    {
     "name": "stdout",
     "output_type": "stream",
     "text": [
      "+--------------------+----------------+\n",
      "|         ledger_type|principal_amount|\n",
      "+--------------------+----------------+\n",
      "|           PRINCIPAL|    2.35587404E9|\n",
      "|            INTEREST|    2.35587404E9|\n",
      "|            LATE_FEE|     3.5793018E8|\n",
      "|RESTRUCTURE_DOWN_...|       2800020.0|\n",
      "+--------------------+----------------+\n",
      "\n"
     ]
    }
   ],
   "source": [
    "spark.sql(\"\"\"\n",
    "SELECT l.ledger_type, SUM(c.principal) AS principal_amount\n",
    "FROM ledger l JOIN contract c ON l.contract_id = c.contract_id\n",
    "GROUP BY l.ledger_type\n",
    "ORDER BY SUM(c.principal) desc\n",
    "\"\"\").show()"
   ]
  },
  {
   "cell_type": "code",
   "execution_count": 44,
   "id": "86d82ec0",
   "metadata": {},
   "outputs": [
    {
     "name": "stdout",
     "output_type": "stream",
     "text": [
      "+-----------+--------------------+---------------+------+-----------+---------+---------+-----------+---------+--------------------+------+-----------+------+---------------+--------+--------------------+-------------------+\n",
      "|contract_id|          created_at|contract_status|tenure|loan_amount|provision| interest|  principal|ledger_id|          created_at|period|ledger_type|status|initial_balance| balance|            due_date|      paid_off_date|\n",
      "+-----------+--------------------+---------------+------+-----------+---------+---------+-----------+---------+--------------------+------+-----------+------+---------------+--------+--------------------+-------------------+\n",
      "|      wrv68|2020-07-20 09:33:...|         ACTIVE|     6|    1618500|   1500.0|      0.0|  1620000.0|  00q7jho|2020-07-20 09:33:...|     2|  PRINCIPAL|  PAID|       270000.0|     0.0|2020-09-20 16:59:...|2020-09-25 12:21:53|\n",
      "|      7ozx8|2020-07-20 06:15:...|         ACTIVE|     6|    2021000|   1000.0|      0.0|  2022000.0|  00shmdx|2020-09-23 17:08:...|     2|   LATE_FEE|UNPAID|       315000.0|315000.0|2020-09-20 16:59:...|               null|\n",
      "|      jo3e8|2020-07-20 09:41:...|         ACTIVE|     6|    1843000|   2000.0|      0.0|  1845000.0|  02c17sg|2020-07-20 09:41:...|     2|   INTEREST|  PAID|            0.0|     0.0|2020-09-20 16:59:...|2020-09-26 10:44:47|\n",
      "|      8kms6|2020-07-20 04:05:...|         ACTIVE|     6|    3769250|   1750.0|      0.0|  3771000.0|  02koly8|2020-07-20 04:05:...|     1|  PRINCIPAL|  PAID|       628500.0|     0.0|2020-08-20 16:59:...|2020-08-25 05:15:23|\n",
      "|      zbqfl|2020-07-20 04:41:...|         ACTIVE|     6|    3642250|   2750.0|      0.0|  3645000.0|  04118sr|2020-07-20 04:41:...|     5|   INTEREST|UNPAID|            0.0|     0.0|2020-12-20 16:59:...|               null|\n",
      "|      bmmv1|2020-07-20 05:22:...|       FINISHED|     3|    3000000|9005496.0|6399504.0|3.9005496E7|  05m6tmf|2020-07-20 05:22:...|     3|  PRINCIPAL|  PAID|    1.4014296E7|     0.0| 2020-10-20 16:59:59|2020-10-04 14:20:05|\n",
      "|      a3182|2020-07-20 01:40:...|         ACTIVE|     6|    1563500|   2500.0|      0.0|  1566000.0|  09d9bex|2020-07-20 01:40:...|     5|  PRINCIPAL|UNPAID|       261000.0|261000.0|2020-12-20 16:59:...|               null|\n",
      "|      5op5o|2020-07-20 06:14:...|         ACTIVE|     6|    3642250|   2750.0|      0.0|  3645000.0|  0c91ud5|2020-07-20 06:14:...|     6|   INTEREST|UNPAID|            0.0|     0.0|2021-01-20 16:59:...|               null|\n",
      "|      qi6ha|2020-07-20 10:08:...|         ACTIVE|     6|    3566500|    500.0|      0.0|  3567000.0|  0ctzbu9|2020-07-20 10:08:...|     1|   INTEREST|UNPAID|            0.0|     0.0|2020-08-20 16:59:...|               null|\n",
      "|      7n9v2|2020-07-20 06:16:...|         ACTIVE|     6|    7675250|   1750.0|      0.0|  7677000.0|  0dk6f4m|2020-09-23 17:08:...|     2|   LATE_FEE|UNPAID|       630000.0|630000.0|2020-09-20 16:59:...|               null|\n",
      "+-----------+--------------------+---------------+------+-----------+---------+---------+-----------+---------+--------------------+------+-----------+------+---------------+--------+--------------------+-------------------+\n",
      "\n"
     ]
    }
   ],
   "source": [
    "contract_join = df_contract.join(df_loan, ['contract_id'], how='inner')\n",
    "contract_join.limit(10).show()"
   ]
  },
  {
   "cell_type": "code",
   "execution_count": 46,
   "id": "21681cce",
   "metadata": {},
   "outputs": [
    {
     "name": "stdout",
     "output_type": "stream",
     "text": [
      "+-----------+-----------+--------------+------------+\n",
      "|contract_id|ledger_type|total_interest|max_interest|\n",
      "+-----------+-----------+--------------+------------+\n",
      "|      7ozx8|   INTEREST|           0.0|         0.0|\n",
      "|      7g7ra|   LATE_FEE|           0.0|         0.0|\n",
      "|      alq2l|   INTEREST|     1378440.0|    459480.0|\n",
      "|      kpu81|   INTEREST|     1378440.0|    459480.0|\n",
      "|      7isno|  PRINCIPAL|     6890352.0|   2296784.0|\n",
      "|      wn12p|   INTEREST|           0.0|         0.0|\n",
      "|      jb3yv|   INTEREST|           0.0|         0.0|\n",
      "|      7qcon|   INTEREST|           0.0|         0.0|\n",
      "|      lfex0|  PRINCIPAL|     1378440.0|    459480.0|\n",
      "|      4064n|  PRINCIPAL|           0.0|         0.0|\n",
      "|      wrv68|   INTEREST|           0.0|         0.0|\n",
      "|      1sk6y|   LATE_FEE|           0.0|         0.0|\n",
      "|      p8438|  PRINCIPAL|           0.0|         0.0|\n",
      "|      9pt6u|   INTEREST|           0.0|         0.0|\n",
      "|      bmmv1|  PRINCIPAL|   1.9198512E7|   6399504.0|\n",
      "|      5a6jf|   INTEREST|           0.0|         0.0|\n",
      "|      wrv68|  PRINCIPAL|           0.0|         0.0|\n",
      "|      x5p6i|   LATE_FEE|           0.0|         0.0|\n",
      "|      zbqfl|   INTEREST|           0.0|         0.0|\n",
      "|      jo3e8|  PRINCIPAL|           0.0|         0.0|\n",
      "+-----------+-----------+--------------+------------+\n",
      "only showing top 20 rows\n",
      "\n"
     ]
    }
   ],
   "source": [
    "contract_join.groupBy(['contract_id','ledger_type']).agg(\n",
    "                        F.sum('interest').alias('total_interest'), \\\n",
    "                        F.max('interest').alias('max_interest')).show()"
   ]
  },
  {
   "cell_type": "code",
   "execution_count": 48,
   "id": "33562257",
   "metadata": {},
   "outputs": [
    {
     "name": "stdout",
     "output_type": "stream",
     "text": [
      "+-----------+--------------------+---------------+------+-----------+---------+---------+-----------+---------+--------------------+------+-----------+------+---------------+--------+--------------------+-------------------+------------------+\n",
      "|contract_id|          created_at|contract_status|tenure|loan_amount|provision| interest|  principal|ledger_id|          created_at|period|ledger_type|status|initial_balance| balance|            due_date|      paid_off_date|ReturnOnInvestment|\n",
      "+-----------+--------------------+---------------+------+-----------+---------+---------+-----------+---------+--------------------+------+-----------+------+---------------+--------+--------------------+-------------------+------------------+\n",
      "|      wrv68|2020-07-20 09:33:...|         ACTIVE|     6|    1618500|   1500.0|      0.0|  1620000.0|  00q7jho|2020-07-20 09:33:...|     2|  PRINCIPAL|  PAID|       270000.0|     0.0|2020-09-20 16:59:...|2020-09-25 12:21:53|         1620000.0|\n",
      "|      7ozx8|2020-07-20 06:15:...|         ACTIVE|     6|    2021000|   1000.0|      0.0|  2022000.0|  00shmdx|2020-09-23 17:08:...|     2|   LATE_FEE|UNPAID|       315000.0|315000.0|2020-09-20 16:59:...|               null|         2022000.0|\n",
      "|      jo3e8|2020-07-20 09:41:...|         ACTIVE|     6|    1843000|   2000.0|      0.0|  1845000.0|  02c17sg|2020-07-20 09:41:...|     2|   INTEREST|  PAID|            0.0|     0.0|2020-09-20 16:59:...|2020-09-26 10:44:47|         1845000.0|\n",
      "|      8kms6|2020-07-20 04:05:...|         ACTIVE|     6|    3769250|   1750.0|      0.0|  3771000.0|  02koly8|2020-07-20 04:05:...|     1|  PRINCIPAL|  PAID|       628500.0|     0.0|2020-08-20 16:59:...|2020-08-25 05:15:23|         3771000.0|\n",
      "|      zbqfl|2020-07-20 04:41:...|         ACTIVE|     6|    3642250|   2750.0|      0.0|  3645000.0|  04118sr|2020-07-20 04:41:...|     5|   INTEREST|UNPAID|            0.0|     0.0|2020-12-20 16:59:...|               null|         3645000.0|\n",
      "|      bmmv1|2020-07-20 05:22:...|       FINISHED|     3|    3000000|9005496.0|6399504.0|3.9005496E7|  05m6tmf|2020-07-20 05:22:...|     3|  PRINCIPAL|  PAID|    1.4014296E7|     0.0| 2020-10-20 16:59:59|2020-10-04 14:20:05|          4.5405E7|\n",
      "|      a3182|2020-07-20 01:40:...|         ACTIVE|     6|    1563500|   2500.0|      0.0|  1566000.0|  09d9bex|2020-07-20 01:40:...|     5|  PRINCIPAL|UNPAID|       261000.0|261000.0|2020-12-20 16:59:...|               null|         1566000.0|\n",
      "|      5op5o|2020-07-20 06:14:...|         ACTIVE|     6|    3642250|   2750.0|      0.0|  3645000.0|  0c91ud5|2020-07-20 06:14:...|     6|   INTEREST|UNPAID|            0.0|     0.0|2021-01-20 16:59:...|               null|         3645000.0|\n",
      "|      qi6ha|2020-07-20 10:08:...|         ACTIVE|     6|    3566500|    500.0|      0.0|  3567000.0|  0ctzbu9|2020-07-20 10:08:...|     1|   INTEREST|UNPAID|            0.0|     0.0|2020-08-20 16:59:...|               null|         3567000.0|\n",
      "|      7n9v2|2020-07-20 06:16:...|         ACTIVE|     6|    7675250|   1750.0|      0.0|  7677000.0|  0dk6f4m|2020-09-23 17:08:...|     2|   LATE_FEE|UNPAID|       630000.0|630000.0|2020-09-20 16:59:...|               null|         7677000.0|\n",
      "+-----------+--------------------+---------------+------+-----------+---------+---------+-----------+---------+--------------------+------+-----------+------+---------------+--------+--------------------+-------------------+------------------+\n",
      "\n"
     ]
    }
   ],
   "source": [
    "roi = contract_join.withColumn('ReturnOnInvestment', F.col('interest') + F.col('principal'))\n",
    "roi.limit(10).show()"
   ]
  },
  {
   "cell_type": "code",
   "execution_count": 61,
   "id": "d1961c59",
   "metadata": {},
   "outputs": [
    {
     "name": "stdout",
     "output_type": "stream",
     "text": [
      "+-----------+--------------------+---------------+------+-----------+---------+---------+-----------+---------+--------------------+------+-----------+------+---------------+--------+--------------------+-------------------+------------------+--------+\n",
      "|contract_id|          created_at|contract_status|tenure|loan_amount|provision| interest|  principal|ledger_id|          created_at|period|ledger_type|status|initial_balance| balance|            due_date|      paid_off_date|ReturnOnInvestment|Duration|\n",
      "+-----------+--------------------+---------------+------+-----------+---------+---------+-----------+---------+--------------------+------+-----------+------+---------------+--------+--------------------+-------------------+------------------+--------+\n",
      "|      wrv68|2020-07-20 09:33:...|         ACTIVE|     6|    1618500|   1500.0|      0.0|  1620000.0|  00q7jho|2020-07-20 09:33:...|     2|  PRINCIPAL|  PAID|       270000.0|     0.0|2020-09-20 16:59:...|2020-09-25 12:21:53|         1620000.0|    Long|\n",
      "|      7ozx8|2020-07-20 06:15:...|         ACTIVE|     6|    2021000|   1000.0|      0.0|  2022000.0|  00shmdx|2020-09-23 17:08:...|     2|   LATE_FEE|UNPAID|       315000.0|315000.0|2020-09-20 16:59:...|               null|         2022000.0|    Long|\n",
      "|      jo3e8|2020-07-20 09:41:...|         ACTIVE|     6|    1843000|   2000.0|      0.0|  1845000.0|  02c17sg|2020-07-20 09:41:...|     2|   INTEREST|  PAID|            0.0|     0.0|2020-09-20 16:59:...|2020-09-26 10:44:47|         1845000.0|    Long|\n",
      "|      8kms6|2020-07-20 04:05:...|         ACTIVE|     6|    3769250|   1750.0|      0.0|  3771000.0|  02koly8|2020-07-20 04:05:...|     1|  PRINCIPAL|  PAID|       628500.0|     0.0|2020-08-20 16:59:...|2020-08-25 05:15:23|         3771000.0|    Long|\n",
      "|      zbqfl|2020-07-20 04:41:...|         ACTIVE|     6|    3642250|   2750.0|      0.0|  3645000.0|  04118sr|2020-07-20 04:41:...|     5|   INTEREST|UNPAID|            0.0|     0.0|2020-12-20 16:59:...|               null|         3645000.0|    Long|\n",
      "|      bmmv1|2020-07-20 05:22:...|       FINISHED|     3|    3000000|9005496.0|6399504.0|3.9005496E7|  05m6tmf|2020-07-20 05:22:...|     3|  PRINCIPAL|  PAID|    1.4014296E7|     0.0| 2020-10-20 16:59:59|2020-10-04 14:20:05|          4.5405E7|   Short|\n",
      "|      a3182|2020-07-20 01:40:...|         ACTIVE|     6|    1563500|   2500.0|      0.0|  1566000.0|  09d9bex|2020-07-20 01:40:...|     5|  PRINCIPAL|UNPAID|       261000.0|261000.0|2020-12-20 16:59:...|               null|         1566000.0|    Long|\n",
      "|      5op5o|2020-07-20 06:14:...|         ACTIVE|     6|    3642250|   2750.0|      0.0|  3645000.0|  0c91ud5|2020-07-20 06:14:...|     6|   INTEREST|UNPAID|            0.0|     0.0|2021-01-20 16:59:...|               null|         3645000.0|    Long|\n",
      "|      qi6ha|2020-07-20 10:08:...|         ACTIVE|     6|    3566500|    500.0|      0.0|  3567000.0|  0ctzbu9|2020-07-20 10:08:...|     1|   INTEREST|UNPAID|            0.0|     0.0|2020-08-20 16:59:...|               null|         3567000.0|    Long|\n",
      "|      7n9v2|2020-07-20 06:16:...|         ACTIVE|     6|    7675250|   1750.0|      0.0|  7677000.0|  0dk6f4m|2020-09-23 17:08:...|     2|   LATE_FEE|UNPAID|       630000.0|630000.0|2020-09-20 16:59:...|               null|         7677000.0|    Long|\n",
      "+-----------+--------------------+---------------+------+-----------+---------+---------+-----------+---------+--------------------+------+-----------+------+---------------+--------+--------------------+-------------------+------------------+--------+\n",
      "\n"
     ]
    }
   ],
   "source": [
    "roi = roi.withColumn('Duration', \n",
    "                    F.when((F.col('tenure') == 2), 'Short') \\\n",
    "                     .when((F.col('tenure') == 3), 'Short') \\\n",
    "                     .when((F.col('tenure') == 4), 'Medium') \\\n",
    "                     .when((F.col('tenure') == 5), 'Medium') \\\n",
    "                     .when((F.col('tenure') == 6), 'Long')\n",
    "                    )\n",
    "roi.limit(10).show()"
   ]
  },
  {
   "cell_type": "code",
   "execution_count": 60,
   "id": "397359a7",
   "metadata": {},
   "outputs": [
    {
     "data": {
      "text/plain": [
       "[Row(tenure=6), Row(tenure=3), Row(tenure=5), Row(tenure=4), Row(tenure=2)]"
      ]
     },
     "execution_count": 60,
     "metadata": {},
     "output_type": "execute_result"
    }
   ],
   "source": [
    "roi.select('tenure').distinct().collect()"
   ]
  },
  {
   "cell_type": "code",
   "execution_count": 62,
   "id": "4f2890c6",
   "metadata": {},
   "outputs": [
    {
     "data": {
      "text/plain": [
       "[Row(Duration='Medium'), Row(Duration='Long'), Row(Duration='Short')]"
      ]
     },
     "execution_count": 62,
     "metadata": {},
     "output_type": "execute_result"
    }
   ],
   "source": [
    "roi.select('Duration').distinct().collect()"
   ]
  },
  {
   "cell_type": "code",
   "execution_count": 66,
   "id": "c139ff44",
   "metadata": {},
   "outputs": [],
   "source": [
    "df_bi = spark.read \\\n",
    "        .format('jdbc') \\\n",
    "        .option('url', jdbc_url) \\\n",
    "        .option('dbtable', f\"dbo.business_data\") \\\n",
    "        .option('user', user) \\\n",
    "        .option('password', password) \\\n",
    "        .option('driver', 'com.microsoft.sqlserver.jdbc.SQLServerDriver') \\\n",
    "        .load()"
   ]
  },
  {
   "cell_type": "code",
   "execution_count": 67,
   "id": "749ed4fb",
   "metadata": {},
   "outputs": [
    {
     "name": "stdout",
     "output_type": "stream",
     "text": [
      "+-------+--------------------+--------------------+-------+-------+-------+-------+\n",
      "|column1|             column2|             column3|column4|column5|column6|column7|\n",
      "+-------+--------------------+--------------------+-------+-------+-------+-------+\n",
      "|   null|Context: p2p lend...|                null|   null|   null|   null|   null|\n",
      "|   null|                null|                null|   null|   null|   null|   null|\n",
      "|   null|      LOAN_CONTRACTS|                null|   null|   null|   null|   null|\n",
      "|   null|                null|                null|   null|   null|   null|   null|\n",
      "|   null|              FIELDS|         DESCRIPTION|   null|   null|   null|   null|\n",
      "|   null|         contract_id|                null|   null|   null|   null|   null|\n",
      "|   null|          created_at|Timestamp of cont...|   null|   null|   null|   null|\n",
      "|   null|     contract_status|- active\\n- finis...|   null|   null|   null|   null|\n",
      "|   null|              tenure|Duration of loan ...|   null|   null|   null|   null|\n",
      "|   null|         loan_amount|                null|   null|   null|   null|   null|\n",
      "|   null|           provision|                null|   null|   null|   null|   null|\n",
      "|   null|            interest|                null|   null|   null|   null|   null|\n",
      "|   null|           principal|                null|   null|   null|   null|   null|\n",
      "|   null|                null|                null|   null|   null|   null|   null|\n",
      "|   null|                null|                null|   null|   null|   null|   null|\n",
      "|   null|LOAN_CONTRACT_LED...|                null|   null|   null|   null|       |\n",
      "|   null|                null|                null|   null|   null|   null|   null|\n",
      "|   null|              FIELDS|         DESCRIPTION|   null|   null|   null|   null|\n",
      "|   null|           ledger_id|                null|   null|   null|   null|   null|\n",
      "|   null|         contract_id|                null|   null|   null|   null|   null|\n",
      "+-------+--------------------+--------------------+-------+-------+-------+-------+\n",
      "only showing top 20 rows\n",
      "\n"
     ]
    }
   ],
   "source": [
    "df_bi.show()"
   ]
  },
  {
   "cell_type": "code",
   "execution_count": 69,
   "id": "6b793c87",
   "metadata": {},
   "outputs": [
    {
     "name": "stdout",
     "output_type": "stream",
     "text": [
      "+-------+--------------------+--------------------+-------+-------+-------+-------+\n",
      "|column1|             column2|             column3|column4|column5|column6|column7|\n",
      "+-------+--------------------+--------------------+-------+-------+-------+-------+\n",
      "|   null|Context: p2p lend...|                   0|   null|   null|   null|   null|\n",
      "|   null|                null|                   0|   null|   null|   null|   null|\n",
      "|   null|      LOAN_CONTRACTS|                   0|   null|   null|   null|   null|\n",
      "|   null|                null|                   0|   null|   null|   null|   null|\n",
      "|   null|              FIELDS|         DESCRIPTION|   null|   null|   null|   null|\n",
      "|   null|         contract_id|                   0|   null|   null|   null|   null|\n",
      "|   null|          created_at|Timestamp of cont...|   null|   null|   null|   null|\n",
      "|   null|     contract_status|- active\\n- finis...|   null|   null|   null|   null|\n",
      "|   null|              tenure|Duration of loan ...|   null|   null|   null|   null|\n",
      "|   null|         loan_amount|                   0|   null|   null|   null|   null|\n",
      "+-------+--------------------+--------------------+-------+-------+-------+-------+\n",
      "\n"
     ]
    }
   ],
   "source": [
    "df_bi = df_bi.withColumn('column3', when(df_bi.column3.isNull(), lit('0')).otherwise(df_bi.column3))\n",
    "df_bi.limit(10).show()"
   ]
  },
  {
   "cell_type": "code",
   "execution_count": 70,
   "id": "ced66f7d",
   "metadata": {},
   "outputs": [
    {
     "name": "stdout",
     "output_type": "stream",
     "text": [
      "+-------+--------------------+--------------------+-------+-------+-------+\n",
      "|column1|             column2|             column3|column4|column5|column6|\n",
      "+-------+--------------------+--------------------+-------+-------+-------+\n",
      "|   null|Context: p2p lend...|                   0|   null|   null|   null|\n",
      "|   null|                null|                   0|   null|   null|   null|\n",
      "|   null|      LOAN_CONTRACTS|                   0|   null|   null|   null|\n",
      "|   null|                null|                   0|   null|   null|   null|\n",
      "|   null|              FIELDS|         DESCRIPTION|   null|   null|   null|\n",
      "|   null|         contract_id|                   0|   null|   null|   null|\n",
      "|   null|          created_at|Timestamp of cont...|   null|   null|   null|\n",
      "|   null|     contract_status|- active\\n- finis...|   null|   null|   null|\n",
      "|   null|              tenure|Duration of loan ...|   null|   null|   null|\n",
      "|   null|         loan_amount|                   0|   null|   null|   null|\n",
      "+-------+--------------------+--------------------+-------+-------+-------+\n",
      "\n"
     ]
    }
   ],
   "source": [
    "df_bi = df_bi.drop('column7')\n",
    "df_bi.limit(10).show()"
   ]
  },
  {
   "cell_type": "code",
   "execution_count": null,
   "id": "91668945",
   "metadata": {},
   "outputs": [],
   "source": []
  }
 ],
 "metadata": {
  "kernelspec": {
   "display_name": "Python 3 (ipykernel)",
   "language": "python",
   "name": "python3"
  },
  "language_info": {
   "codemirror_mode": {
    "name": "ipython",
    "version": 3
   },
   "file_extension": ".py",
   "mimetype": "text/x-python",
   "name": "python",
   "nbconvert_exporter": "python",
   "pygments_lexer": "ipython3",
   "version": "3.10.9"
  }
 },
 "nbformat": 4,
 "nbformat_minor": 5
}
